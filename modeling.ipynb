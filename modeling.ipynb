{
 "cells": [
  {
   "cell_type": "markdown",
   "id": "8697e009",
   "metadata": {},
   "source": [
    "Exercises\n",
    "\n",
    "Do your work for this exercise in a jupyter notebook named modeling within the regression-exercises repo. Add, commit, and push your work."
   ]
  },
  {
   "cell_type": "code",
   "execution_count": 1,
   "id": "aa8d39db",
   "metadata": {},
   "outputs": [],
   "source": [
    "# imports:\n",
    "# tabular data stuff:\n",
    "import pandas as pd\n",
    "import numpy as np\n",
    "import matplotlib.pyplot as plt\n",
    "import seaborn as sns\n",
    "from pydataset import data\n",
    "\n",
    "# modeling methods\n",
    "# our basic evaluation metric: mean squared error\n",
    "from sklearn.metrics import mean_squared_error\n",
    "# from linear_model: LinearRegression (OLS), LassoLars, TweedieRegressor (Generalized Linear Model)\n",
    "from sklearn.linear_model import LinearRegression, LassoLars, TweedieRegressor\n",
    "# Polynomial Features for polynomial data transformation\n",
    "from sklearn.preprocessing import PolynomialFeatures, MinMaxScaler\n",
    "#split\n",
    "from sklearn.model_selection import train_test_split\n",
    "\n",
    "import warnings\n",
    "warnings.filterwarnings('ignore')"
   ]
  },
  {
   "cell_type": "markdown",
   "id": "3f2471c5",
   "metadata": {},
   "source": [
    "#### 1. Select a dataset with a continuous target variable."
   ]
  },
  {
   "cell_type": "code",
   "execution_count": 2,
   "id": "b41c0847",
   "metadata": {},
   "outputs": [
    {
     "data": {
      "text/html": [
       "<div>\n",
       "<style scoped>\n",
       "    .dataframe tbody tr th:only-of-type {\n",
       "        vertical-align: middle;\n",
       "    }\n",
       "\n",
       "    .dataframe tbody tr th {\n",
       "        vertical-align: top;\n",
       "    }\n",
       "\n",
       "    .dataframe thead th {\n",
       "        text-align: right;\n",
       "    }\n",
       "</style>\n",
       "<table border=\"1\" class=\"dataframe\">\n",
       "  <thead>\n",
       "    <tr style=\"text-align: right;\">\n",
       "      <th></th>\n",
       "      <th>Fertility</th>\n",
       "      <th>Agriculture</th>\n",
       "      <th>Examination</th>\n",
       "      <th>Education</th>\n",
       "      <th>Catholic</th>\n",
       "      <th>Infant.Mortality</th>\n",
       "    </tr>\n",
       "  </thead>\n",
       "  <tbody>\n",
       "    <tr>\n",
       "      <th>Courtelary</th>\n",
       "      <td>80.2</td>\n",
       "      <td>17.0</td>\n",
       "      <td>15</td>\n",
       "      <td>12</td>\n",
       "      <td>9.96</td>\n",
       "      <td>22.2</td>\n",
       "    </tr>\n",
       "    <tr>\n",
       "      <th>Delemont</th>\n",
       "      <td>83.1</td>\n",
       "      <td>45.1</td>\n",
       "      <td>6</td>\n",
       "      <td>9</td>\n",
       "      <td>84.84</td>\n",
       "      <td>22.2</td>\n",
       "    </tr>\n",
       "    <tr>\n",
       "      <th>Franches-Mnt</th>\n",
       "      <td>92.5</td>\n",
       "      <td>39.7</td>\n",
       "      <td>5</td>\n",
       "      <td>5</td>\n",
       "      <td>93.40</td>\n",
       "      <td>20.2</td>\n",
       "    </tr>\n",
       "    <tr>\n",
       "      <th>Moutier</th>\n",
       "      <td>85.8</td>\n",
       "      <td>36.5</td>\n",
       "      <td>12</td>\n",
       "      <td>7</td>\n",
       "      <td>33.77</td>\n",
       "      <td>20.3</td>\n",
       "    </tr>\n",
       "    <tr>\n",
       "      <th>Neuveville</th>\n",
       "      <td>76.9</td>\n",
       "      <td>43.5</td>\n",
       "      <td>17</td>\n",
       "      <td>15</td>\n",
       "      <td>5.16</td>\n",
       "      <td>20.6</td>\n",
       "    </tr>\n",
       "  </tbody>\n",
       "</table>\n",
       "</div>"
      ],
      "text/plain": [
       "              Fertility  Agriculture  Examination  Education  Catholic  \\\n",
       "Courtelary         80.2         17.0           15         12      9.96   \n",
       "Delemont           83.1         45.1            6          9     84.84   \n",
       "Franches-Mnt       92.5         39.7            5          5     93.40   \n",
       "Moutier            85.8         36.5           12          7     33.77   \n",
       "Neuveville         76.9         43.5           17         15      5.16   \n",
       "\n",
       "              Infant.Mortality  \n",
       "Courtelary                22.2  \n",
       "Delemont                  22.2  \n",
       "Franches-Mnt              20.2  \n",
       "Moutier                   20.3  \n",
       "Neuveville                20.6  "
      ]
     },
     "execution_count": 2,
     "metadata": {},
     "output_type": "execute_result"
    }
   ],
   "source": [
    "#load swiss data, it lives inside pydataset\n",
    "swiss = data(\"swiss\")\n",
    "swiss.head()"
   ]
  },
  {
   "cell_type": "markdown",
   "id": "4cf8a29b",
   "metadata": {},
   "source": [
    "#### 2. Be sure your data is prepared (no missing values, numeric datatypes) and split into samples. "
   ]
  },
  {
   "cell_type": "code",
   "execution_count": 3,
   "id": "880be306",
   "metadata": {},
   "outputs": [
    {
     "data": {
      "text/plain": [
       "Fertility           0\n",
       "Agriculture         0\n",
       "Examination         0\n",
       "Education           0\n",
       "Catholic            0\n",
       "Infant.Mortality    0\n",
       "dtype: int64"
      ]
     },
     "execution_count": 3,
     "metadata": {},
     "output_type": "execute_result"
    }
   ],
   "source": [
    "#check to see if there any nulls\n",
    "swiss.isnull().sum()"
   ]
  },
  {
   "cell_type": "code",
   "execution_count": 23,
   "id": "d52e96e9",
   "metadata": {},
   "outputs": [
    {
     "name": "stdout",
     "output_type": "stream",
     "text": [
      "<class 'pandas.core.frame.DataFrame'>\n",
      "Index: 47 entries, Courtelary to Rive Gauche\n",
      "Data columns (total 6 columns):\n",
      " #   Column            Non-Null Count  Dtype  \n",
      "---  ------            --------------  -----  \n",
      " 0   Fertility         47 non-null     float64\n",
      " 1   Agriculture       47 non-null     float64\n",
      " 2   Examination       47 non-null     int64  \n",
      " 3   Education         47 non-null     int64  \n",
      " 4   Catholic          47 non-null     float64\n",
      " 5   Infant.Mortality  47 non-null     float64\n",
      "dtypes: float64(4), int64(2)\n",
      "memory usage: 2.6+ KB\n"
     ]
    }
   ],
   "source": [
    "#check data types\n",
    "swiss.info()"
   ]
  },
  {
   "cell_type": "code",
   "execution_count": 4,
   "id": "6323111c",
   "metadata": {},
   "outputs": [
    {
     "data": {
      "text/plain": [
       "((25, 6), (12, 6), (10, 6))"
      ]
     },
     "execution_count": 4,
     "metadata": {},
     "output_type": "execute_result"
    }
   ],
   "source": [
    "#split data\n",
    "train_validate, test = train_test_split(swiss, test_size= .2, random_state = 123)\n",
    "train,validate = train_test_split(train_validate, test_size= .3, random_state = 123)\n",
    "train.shape,validate.shape,test.shape"
   ]
  },
  {
   "cell_type": "markdown",
   "id": "4c9d55c0",
   "metadata": {},
   "source": [
    "#### 3. Work through all of the steps outlined in the lesson, from setting the baseline to selected a model and evaluating the final model on your test data."
   ]
  },
  {
   "cell_type": "code",
   "execution_count": 5,
   "id": "80177144",
   "metadata": {},
   "outputs": [
    {
     "data": {
      "text/plain": [
       "MinMaxScaler()"
      ]
     },
     "execution_count": 5,
     "metadata": {},
     "output_type": "execute_result"
    }
   ],
   "source": [
    "#Use minmax scaler\n",
    "#create scaler\n",
    "scaler = MinMaxScaler()\n",
    "#fit scaler\n",
    "scaler.fit(train.drop(columns = \"Fertility\"))"
   ]
  },
  {
   "cell_type": "code",
   "execution_count": 6,
   "id": "248047ec",
   "metadata": {},
   "outputs": [],
   "source": [
    "#scale(transform) train,valiate and test\n",
    "X_train = pd.DataFrame(scaler.transform(train.drop(columns = \"Fertility\")), columns = train.columns[1:])\n",
    "X_validate = pd.DataFrame(scaler.transform(validate.drop(columns = \"Fertility\")),columns = validate.columns[1:])\n",
    "X_test= pd.DataFrame(scaler.transform(test.drop(columns = \"Fertility\")),columns = test.columns[1:])"
   ]
  },
  {
   "cell_type": "code",
   "execution_count": 7,
   "id": "9178315b",
   "metadata": {},
   "outputs": [
    {
     "data": {
      "text/html": [
       "<div>\n",
       "<style scoped>\n",
       "    .dataframe tbody tr th:only-of-type {\n",
       "        vertical-align: middle;\n",
       "    }\n",
       "\n",
       "    .dataframe tbody tr th {\n",
       "        vertical-align: top;\n",
       "    }\n",
       "\n",
       "    .dataframe thead th {\n",
       "        text-align: right;\n",
       "    }\n",
       "</style>\n",
       "<table border=\"1\" class=\"dataframe\">\n",
       "  <thead>\n",
       "    <tr style=\"text-align: right;\">\n",
       "      <th></th>\n",
       "      <th>Agriculture</th>\n",
       "      <th>Examination</th>\n",
       "      <th>Education</th>\n",
       "      <th>Catholic</th>\n",
       "      <th>Infant.Mortality</th>\n",
       "    </tr>\n",
       "  </thead>\n",
       "  <tbody>\n",
       "    <tr>\n",
       "      <th>0</th>\n",
       "      <td>0.647561</td>\n",
       "      <td>0.40625</td>\n",
       "      <td>0.290323</td>\n",
       "      <td>0.054508</td>\n",
       "      <td>0.122449</td>\n",
       "    </tr>\n",
       "    <tr>\n",
       "      <th>1</th>\n",
       "      <td>0.796341</td>\n",
       "      <td>0.50000</td>\n",
       "      <td>0.258065</td>\n",
       "      <td>0.004508</td>\n",
       "      <td>0.500000</td>\n",
       "    </tr>\n",
       "    <tr>\n",
       "      <th>2</th>\n",
       "      <td>0.526829</td>\n",
       "      <td>0.59375</td>\n",
       "      <td>0.354839</td>\n",
       "      <td>0.130533</td>\n",
       "      <td>0.163265</td>\n",
       "    </tr>\n",
       "    <tr>\n",
       "      <th>3</th>\n",
       "      <td>0.953659</td>\n",
       "      <td>0.00000</td>\n",
       "      <td>0.032258</td>\n",
       "      <td>0.997029</td>\n",
       "      <td>0.000000</td>\n",
       "    </tr>\n",
       "    <tr>\n",
       "      <th>4</th>\n",
       "      <td>0.509756</td>\n",
       "      <td>0.37500</td>\n",
       "      <td>0.225806</td>\n",
       "      <td>0.037910</td>\n",
       "      <td>0.755102</td>\n",
       "    </tr>\n",
       "  </tbody>\n",
       "</table>\n",
       "</div>"
      ],
      "text/plain": [
       "   Agriculture  Examination  Education  Catholic  Infant.Mortality\n",
       "0     0.647561      0.40625   0.290323  0.054508          0.122449\n",
       "1     0.796341      0.50000   0.258065  0.004508          0.500000\n",
       "2     0.526829      0.59375   0.354839  0.130533          0.163265\n",
       "3     0.953659      0.00000   0.032258  0.997029          0.000000\n",
       "4     0.509756      0.37500   0.225806  0.037910          0.755102"
      ]
     },
     "execution_count": 7,
     "metadata": {},
     "output_type": "execute_result"
    }
   ],
   "source": [
    "#check x train\n",
    "X_train.head()"
   ]
  },
  {
   "cell_type": "code",
   "execution_count": 8,
   "id": "7f1d956b",
   "metadata": {},
   "outputs": [],
   "source": [
    "#set up y values\n",
    "y_train = train.Fertility\n",
    "y_validate = validate.Fertility\n",
    "y_test = test.Fertility"
   ]
  },
  {
   "cell_type": "code",
   "execution_count": 9,
   "id": "fc3f578b",
   "metadata": {
    "scrolled": true
   },
   "outputs": [
    {
     "data": {
      "image/png": "[encoded data removed]",
      "text/plain": [
       "<Figure size 432x288 with 1 Axes>"
      ]
     },
     "metadata": {
      "needs_background": "light"
     },
     "output_type": "display_data"
    }
   ],
   "source": [
    "#distribution of y_train\n",
    "plt.hist(y_train)\n",
    "plt.title(\"fertility distribution\")\n",
    "plt.show()"
   ]
  },
  {
   "cell_type": "code",
   "execution_count": 10,
   "id": "715af20b",
   "metadata": {},
   "outputs": [],
   "source": [
    "#convert y_train and y_validate to datafram\n",
    "y_train = pd.DataFrame(y_train)\n",
    "y_validate=pd.DataFrame(y_validate)"
   ]
  },
  {
   "cell_type": "code",
   "execution_count": 11,
   "id": "efcc2f66",
   "metadata": {},
   "outputs": [],
   "source": [
    "#compute fertility_pred_mean \n",
    "fertility_pred_mean = y_train.Fertility.mean()\n",
    "y_train[\"fertility_pred_mean\"] = fertility_pred_mean\n",
    "y_validate[\"fertility_pred_mean\"] = fertility_pred_mean\n",
    "\n",
    "\n",
    "#computer fertility_pred_median\n",
    "fertility_pred_median = y_train.Fertility.median()\n",
    "y_train[\"fertility_pred_median\"] = fertility_pred_median\n",
    "y_validate[\"fertility_pred_median\"] = fertility_pred_median"
   ]
  },
  {
   "cell_type": "code",
   "execution_count": 12,
   "id": "22f90101",
   "metadata": {},
   "outputs": [
    {
     "data": {
      "text/html": [
       "<div>\n",
       "<style scoped>\n",
       "    .dataframe tbody tr th:only-of-type {\n",
       "        vertical-align: middle;\n",
       "    }\n",
       "\n",
       "    .dataframe tbody tr th {\n",
       "        vertical-align: top;\n",
       "    }\n",
       "\n",
       "    .dataframe thead th {\n",
       "        text-align: right;\n",
       "    }\n",
       "</style>\n",
       "<table border=\"1\" class=\"dataframe\">\n",
       "  <thead>\n",
       "    <tr style=\"text-align: right;\">\n",
       "      <th></th>\n",
       "      <th>Fertility</th>\n",
       "      <th>fertility_pred_mean</th>\n",
       "      <th>fertility_pred_median</th>\n",
       "    </tr>\n",
       "  </thead>\n",
       "  <tbody>\n",
       "    <tr>\n",
       "      <th>Rolle</th>\n",
       "      <td>60.5</td>\n",
       "      <td>71.536</td>\n",
       "      <td>71.7</td>\n",
       "    </tr>\n",
       "  </tbody>\n",
       "</table>\n",
       "</div>"
      ],
      "text/plain": [
       "       Fertility  fertility_pred_mean  fertility_pred_median\n",
       "Rolle       60.5               71.536                   71.7"
      ]
     },
     "execution_count": 12,
     "metadata": {},
     "output_type": "execute_result"
    }
   ],
   "source": [
    "y_train.head(1)"
   ]
  },
  {
   "cell_type": "code",
   "execution_count": 13,
   "id": "9b56489a",
   "metadata": {},
   "outputs": [
    {
     "data": {
      "text/html": [
       "<div>\n",
       "<style scoped>\n",
       "    .dataframe tbody tr th:only-of-type {\n",
       "        vertical-align: middle;\n",
       "    }\n",
       "\n",
       "    .dataframe tbody tr th {\n",
       "        vertical-align: top;\n",
       "    }\n",
       "\n",
       "    .dataframe thead th {\n",
       "        text-align: right;\n",
       "    }\n",
       "</style>\n",
       "<table border=\"1\" class=\"dataframe\">\n",
       "  <thead>\n",
       "    <tr style=\"text-align: right;\">\n",
       "      <th></th>\n",
       "      <th>Fertility</th>\n",
       "      <th>fertility_pred_mean</th>\n",
       "      <th>fertility_pred_median</th>\n",
       "    </tr>\n",
       "  </thead>\n",
       "  <tbody>\n",
       "    <tr>\n",
       "      <th>Moudon</th>\n",
       "      <td>65.0</td>\n",
       "      <td>71.536</td>\n",
       "      <td>71.7</td>\n",
       "    </tr>\n",
       "  </tbody>\n",
       "</table>\n",
       "</div>"
      ],
      "text/plain": [
       "        Fertility  fertility_pred_mean  fertility_pred_median\n",
       "Moudon       65.0               71.536                   71.7"
      ]
     },
     "execution_count": 13,
     "metadata": {},
     "output_type": "execute_result"
    }
   ],
   "source": [
    "y_validate.head(1)"
   ]
  },
  {
   "cell_type": "code",
   "execution_count": 14,
   "id": "825c63ff",
   "metadata": {},
   "outputs": [
    {
     "name": "stdout",
     "output_type": "stream",
     "text": [
      "RMSE using Mean\n",
      "Train/In-Sample:  9.77 \n",
      "Validate/Out-of-Sample:  14.78\n"
     ]
    }
   ],
   "source": [
    "#Rmse of fertility predict mean\n",
    "rmse_train = mean_squared_error(y_train.Fertility, y_train.fertility_pred_mean, squared = False)\n",
    "rmse_validate = mean_squared_error(y_validate.Fertility,y_validate.fertility_pred_mean, squared = False)\n",
    "\n",
    "print(\"RMSE using Mean\\nTrain/In-Sample: \", round(rmse_train, 2), \n",
    "      \"\\nValidate/Out-of-Sample: \", round(rmse_validate, 2))"
   ]
  },
  {
   "cell_type": "code",
   "execution_count": 15,
   "id": "9b022208",
   "metadata": {},
   "outputs": [
    {
     "name": "stdout",
     "output_type": "stream",
     "text": [
      "RMSE using Median\n",
      "Train/In-Sample:  9.78 \n",
      "Validate/Out-of-Sample:  14.83\n"
     ]
    }
   ],
   "source": [
    "#Rmse of fertility predict median\n",
    "rmse_train = mean_squared_error(y_train.Fertility, y_train.fertility_pred_median, squared = False)\n",
    "rmse_validate = mean_squared_error(y_validate.Fertility,y_validate.fertility_pred_median, squared = False)\n",
    "\n",
    "print(\"RMSE using Median\\nTrain/In-Sample: \", round(rmse_train, 2), \n",
    "      \"\\nValidate/Out-of-Sample: \", round(rmse_validate, 2))"
   ]
  },
  {
   "cell_type": "code",
   "execution_count": 16,
   "id": "f2b47feb",
   "metadata": {},
   "outputs": [
    {
     "data": {
      "image/png": "[encoded data removed]",
      "text/plain": [
       "<Figure size 432x288 with 1 Axes>"
      ]
     },
     "metadata": {
      "needs_background": "light"
     },
     "output_type": "display_data"
    }
   ],
   "source": [
    "#visualize actual vs baseline\n",
    "plt.hist(y_train.Fertility, label = \"actual fertility\")\n",
    "plt.hist(y_train.fertility_pred_mean,bins =1, color = \"red\", label = \"baseline mean\")\n",
    "plt.hist(y_train.fertility_pred_median, bins = 1, color = \"green\", label = \"baseline median\")\n",
    "plt.xlabel(\"fertility\")\n",
    "plt.ylabel(\"count\")\n",
    "plt.legend()\n",
    "plt.show()"
   ]
  },
  {
   "cell_type": "markdown",
   "id": "5fd7291c",
   "metadata": {},
   "source": [
    "OLS model"
   ]
  },
  {
   "cell_type": "code",
   "execution_count": 17,
   "id": "655637e5",
   "metadata": {},
   "outputs": [
    {
     "name": "stdout",
     "output_type": "stream",
     "text": [
      "RMSE for OLS using LinearRegression\n",
      "Training/In-Sample:  4.5710430428892685 \n",
      "Validation/Out-of-Sample:  12.132738217927669\n"
     ]
    }
   ],
   "source": [
    "#make object\n",
    "lm = LinearRegression()\n",
    "#fit the model\n",
    "lm.fit(X_train,y_train.Fertility)\n",
    "\n",
    "#predict\n",
    "y_train[\"fertility_pred_lm\"] = lm.predict(X_train)\n",
    "y_validate[\"fertility_pred_lm\"] = lm.predict(X_validate)\n",
    "\n",
    "#evaluate rmse\n",
    "rmse_train = mean_squared_error(y_train.Fertility,y_train.fertility_pred_lm, squared = False)\n",
    "rmse_validate = mean_squared_error(y_validate.Fertility,y_validate.fertility_pred_lm, squared = False)\n",
    "\n",
    "print(\"RMSE for OLS using LinearRegression\\nTraining/In-Sample: \", rmse_train, \n",
    "      \"\\nValidation/Out-of-Sample: \", rmse_validate)"
   ]
  },
  {
   "cell_type": "markdown",
   "id": "90610952",
   "metadata": {},
   "source": [
    "LassoLars model"
   ]
  },
  {
   "cell_type": "code",
   "execution_count": 18,
   "id": "962322b5",
   "metadata": {},
   "outputs": [
    {
     "name": "stdout",
     "output_type": "stream",
     "text": [
      "RMSE for OLS using LinearRegression\n",
      "Training/In-Sample:  8.900787755452747 \n",
      "Validation/Out-of-Sample:  14.583862842774934\n"
     ]
    }
   ],
   "source": [
    "#make object\n",
    "lars = LassoLars(alpha=1)\n",
    "#fit the model\n",
    "lars.fit(X_train,y_train.Fertility)\n",
    "\n",
    "#predict\n",
    "y_train[\"fertility_pred_lars\"] = lars.predict(X_train)\n",
    "y_validate[\"fertility_pred_lars\"] = lars.predict(X_validate)\n",
    "\n",
    "#evaluate rmse\n",
    "rmse_train = mean_squared_error(y_train.Fertility,y_train.fertility_pred_lars, squared = False)\n",
    "rmse_validate = mean_squared_error(y_validate.Fertility,y_validate.fertility_pred_lars, squared = False)\n",
    "\n",
    "print(\"RMSE for OLS using LinearRegression\\nTraining/In-Sample: \", rmse_train, \n",
    "      \"\\nValidation/Out-of-Sample: \", rmse_validate)"
   ]
  },
  {
   "cell_type": "markdown",
   "id": "48d8f92d",
   "metadata": {},
   "source": [
    "TweedieRegressor(GLM)"
   ]
  },
  {
   "cell_type": "code",
   "execution_count": 19,
   "id": "8a8ace9d",
   "metadata": {},
   "outputs": [
    {
     "name": "stdout",
     "output_type": "stream",
     "text": [
      "RMSE for OLS using LinearRegression\n",
      "Training/In-Sample:  8.900787755452747 \n",
      "Validation/Out-of-Sample:  14.583862842774934\n"
     ]
    }
   ],
   "source": [
    "#make object\n",
    "glm = TweedieRegressor(power = 1, alpha=0)\n",
    "#fit the model\n",
    "glm.fit(X_train,y_train.Fertility)\n",
    "\n",
    "#predict\n",
    "y_train[\"fertility_pred_glm\"] = lars.predict(X_train)\n",
    "y_validate[\"fertility_pred_glm\"] = lars.predict(X_validate)\n",
    "\n",
    "#evaluate rmse\n",
    "rmse_train = mean_squared_error(y_train.Fertility,y_train.fertility_pred_glm, squared = False)\n",
    "rmse_validate = mean_squared_error(y_validate.Fertility,y_validate.fertility_pred_glm, squared = False)\n",
    "\n",
    "print(\"RMSE for OLS using LinearRegression\\nTraining/In-Sample: \", rmse_train, \n",
    "      \"\\nValidation/Out-of-Sample: \", rmse_validate)"
   ]
  },
  {
   "cell_type": "markdown",
   "id": "95d4704b",
   "metadata": {},
   "source": [
    "PolynomialFeatures"
   ]
  },
  {
   "cell_type": "code",
   "execution_count": 20,
   "id": "d443d581",
   "metadata": {},
   "outputs": [],
   "source": [
    "#make object\n",
    "pf = PolynomialFeatures(degree =2)\n",
    "#fit and transform\n",
    "X_train_degree2 = pf.fit_transform(X_train)\n",
    "\n",
    "#train X validate\n",
    "X_validate_degree2 = pf.transform(X_validate)"
   ]
  },
  {
   "cell_type": "markdown",
   "id": "a2d8f586",
   "metadata": {},
   "source": [
    "Linear regression"
   ]
  },
  {
   "cell_type": "code",
   "execution_count": 21,
   "id": "11068d84",
   "metadata": {},
   "outputs": [
    {
     "data": {
      "text/plain": [
       "LinearRegression(normalize=True)"
      ]
     },
     "execution_count": 21,
     "metadata": {},
     "output_type": "execute_result"
    }
   ],
   "source": [
    "#create model \n",
    "lm2 = LinearRegression(normalize=True)\n",
    "#fit\n",
    "lm2.fit(X_train_degree2,y_train.Fertility)"
   ]
  },
  {
   "cell_type": "code",
   "execution_count": 22,
   "id": "e7499118",
   "metadata": {},
   "outputs": [
    {
     "name": "stdout",
     "output_type": "stream",
     "text": [
      "RMSE for OLS using LinearRegression\n",
      "Training/In-Sample:  2.589394260668318 \n",
      "Validation/Out-of-Sample:  26.657466827351666\n"
     ]
    }
   ],
   "source": [
    "#predict train and validate\n",
    "#predict\n",
    "y_train[\"fertility_pred_lm2\"] = lm2.predict(X_train_degree2)\n",
    "y_validate[\"fertility_pred_lm2\"] = lm2.predict(X_validate_degree2)\n",
    "\n",
    "#evaluate rmse\n",
    "rmse_train = mean_squared_error(y_train.Fertility,y_train.fertility_pred_lm2, squared = False)\n",
    "rmse_validate = mean_squared_error(y_validate.Fertility,y_validate.fertility_pred_lm2, squared = False)\n",
    "\n",
    "print(\"RMSE for OLS using LinearRegression\\nTraining/In-Sample: \", rmse_train, \n",
    "      \"\\nValidation/Out-of-Sample: \", rmse_validate)"
   ]
  },
  {
   "cell_type": "code",
   "execution_count": null,
   "id": "efca431a",
   "metadata": {},
   "outputs": [],
   "source": []
  },
  {
   "cell_type": "code",
   "execution_count": null,
   "id": "5a407649",
   "metadata": {},
   "outputs": [],
   "source": []
  }
 ],
 "metadata": {
  "kernelspec": {
   "display_name": "Python 3 (ipykernel)",
   "language": "python",
   "name": "python3"
  },
  "language_info": {
   "codemirror_mode": {
    "name": "ipython",
    "version": 3
   },
   "file_extension": ".py",
   "mimetype": "text/x-python",
   "name": "python",
   "nbconvert_exporter": "python",
   "pygments_lexer": "ipython3",
   "version": "3.9.12"
  }
 },
 "nbformat": 4,
 "nbformat_minor": 5
}
