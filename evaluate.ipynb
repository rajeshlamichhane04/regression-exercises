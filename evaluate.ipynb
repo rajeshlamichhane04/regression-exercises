{
 "cells": [
  {
   "cell_type": "code",
   "execution_count": 5,
   "id": "30a01e02",
   "metadata": {},
   "outputs": [],
   "source": [
    "#imports\n",
    "import pandas as pd\n",
    "import numpy as np\n",
    "import seaborn as sns\n",
    "import matplotlib.pyplot as plt\n",
    "import env\n",
    "import wrangle\n",
    "import explore\n",
    "from sklearn.model_selection import train_test_split\n",
    "from sklearn.preprocessing import MinMaxScaler\n",
    "from sklearn.linear_model import LinearRegression\n",
    "from sklearn.metrics import mean_squared_error\n",
    "from sklearn.metrics import r2_score\n",
    "\n",
    "import warnings\n",
    "warnings.filterwarnings(\"ignore\")"
   ]
  },
  {
   "cell_type": "markdown",
   "id": "e3ac21ba",
   "metadata": {},
   "source": [
    "1. Load your zillow dataset."
   ]
  },
  {
   "cell_type": "code",
   "execution_count": 6,
   "id": "40c168cb",
   "metadata": {},
   "outputs": [
    {
     "data": {
      "text/html": [
       "<div>\n",
       "<style scoped>\n",
       "    .dataframe tbody tr th:only-of-type {\n",
       "        vertical-align: middle;\n",
       "    }\n",
       "\n",
       "    .dataframe tbody tr th {\n",
       "        vertical-align: top;\n",
       "    }\n",
       "\n",
       "    .dataframe thead th {\n",
       "        text-align: right;\n",
       "    }\n",
       "</style>\n",
       "<table border=\"1\" class=\"dataframe\">\n",
       "  <thead>\n",
       "    <tr style=\"text-align: right;\">\n",
       "      <th></th>\n",
       "      <th>bedroom</th>\n",
       "      <th>bathroom</th>\n",
       "      <th>area</th>\n",
       "      <th>tax_value</th>\n",
       "      <th>year_built</th>\n",
       "      <th>tax_amount</th>\n",
       "      <th>fips</th>\n",
       "    </tr>\n",
       "  </thead>\n",
       "  <tbody>\n",
       "    <tr>\n",
       "      <th>7</th>\n",
       "      <td>3</td>\n",
       "      <td>2.0</td>\n",
       "      <td>2077</td>\n",
       "      <td>646760</td>\n",
       "      <td>1926</td>\n",
       "      <td>7924.68</td>\n",
       "      <td>6037</td>\n",
       "    </tr>\n",
       "    <tr>\n",
       "      <th>18</th>\n",
       "      <td>3</td>\n",
       "      <td>1.0</td>\n",
       "      <td>1244</td>\n",
       "      <td>169471</td>\n",
       "      <td>1950</td>\n",
       "      <td>2532.88</td>\n",
       "      <td>6037</td>\n",
       "    </tr>\n",
       "    <tr>\n",
       "      <th>19</th>\n",
       "      <td>3</td>\n",
       "      <td>2.0</td>\n",
       "      <td>1300</td>\n",
       "      <td>233266</td>\n",
       "      <td>1950</td>\n",
       "      <td>3110.99</td>\n",
       "      <td>6037</td>\n",
       "    </tr>\n",
       "    <tr>\n",
       "      <th>20</th>\n",
       "      <td>3</td>\n",
       "      <td>2.0</td>\n",
       "      <td>1222</td>\n",
       "      <td>290492</td>\n",
       "      <td>1951</td>\n",
       "      <td>3870.25</td>\n",
       "      <td>6037</td>\n",
       "    </tr>\n",
       "    <tr>\n",
       "      <th>40</th>\n",
       "      <td>2</td>\n",
       "      <td>1.0</td>\n",
       "      <td>725</td>\n",
       "      <td>37548</td>\n",
       "      <td>1953</td>\n",
       "      <td>576.47</td>\n",
       "      <td>6037</td>\n",
       "    </tr>\n",
       "  </tbody>\n",
       "</table>\n",
       "</div>"
      ],
      "text/plain": [
       "    bedroom  bathroom  area  tax_value  year_built  tax_amount  fips\n",
       "7         3       2.0  2077     646760        1926     7924.68  6037\n",
       "18        3       1.0  1244     169471        1950     2532.88  6037\n",
       "19        3       2.0  1300     233266        1950     3110.99  6037\n",
       "20        3       2.0  1222     290492        1951     3870.25  6037\n",
       "40        2       1.0   725      37548        1953      576.47  6037"
      ]
     },
     "execution_count": 6,
     "metadata": {},
     "output_type": "execute_result"
    }
   ],
   "source": [
    "#pull my data\n",
    "df = wrangle.wrangle_zillow()\n",
    "df.head()"
   ]
  },
  {
   "cell_type": "code",
   "execution_count": 7,
   "id": "88d40c1b",
   "metadata": {},
   "outputs": [
    {
     "data": {
      "text/plain": [
       "((1023397, 7), (438600, 7), (365500, 7))"
      ]
     },
     "execution_count": 7,
     "metadata": {},
     "output_type": "execute_result"
    }
   ],
   "source": [
    "#split data\n",
    "train, validate, test = wrangle.split_data(df)\n",
    "train.shape,validate.shape,test.shape"
   ]
  },
  {
   "cell_type": "code",
   "execution_count": 8,
   "id": "17e4738b",
   "metadata": {},
   "outputs": [
    {
     "data": {
      "text/html": [
       "<div>\n",
       "<style scoped>\n",
       "    .dataframe tbody tr th:only-of-type {\n",
       "        vertical-align: middle;\n",
       "    }\n",
       "\n",
       "    .dataframe tbody tr th {\n",
       "        vertical-align: top;\n",
       "    }\n",
       "\n",
       "    .dataframe thead th {\n",
       "        text-align: right;\n",
       "    }\n",
       "</style>\n",
       "<table border=\"1\" class=\"dataframe\">\n",
       "  <thead>\n",
       "    <tr style=\"text-align: right;\">\n",
       "      <th></th>\n",
       "      <th>bedroom</th>\n",
       "      <th>bathroom</th>\n",
       "      <th>area</th>\n",
       "      <th>tax_value</th>\n",
       "      <th>year_built</th>\n",
       "      <th>tax_amount</th>\n",
       "      <th>fips</th>\n",
       "    </tr>\n",
       "  </thead>\n",
       "  <tbody>\n",
       "    <tr>\n",
       "      <th>1927212</th>\n",
       "      <td>3</td>\n",
       "      <td>2.0</td>\n",
       "      <td>2365</td>\n",
       "      <td>529671</td>\n",
       "      <td>1976</td>\n",
       "      <td>5644.78</td>\n",
       "      <td>6111</td>\n",
       "    </tr>\n",
       "    <tr>\n",
       "      <th>539627</th>\n",
       "      <td>4</td>\n",
       "      <td>3.0</td>\n",
       "      <td>2434</td>\n",
       "      <td>161495</td>\n",
       "      <td>1960</td>\n",
       "      <td>2103.93</td>\n",
       "      <td>6037</td>\n",
       "    </tr>\n",
       "    <tr>\n",
       "      <th>1231220</th>\n",
       "      <td>3</td>\n",
       "      <td>2.0</td>\n",
       "      <td>1751</td>\n",
       "      <td>104395</td>\n",
       "      <td>1920</td>\n",
       "      <td>1405.93</td>\n",
       "      <td>6037</td>\n",
       "    </tr>\n",
       "    <tr>\n",
       "      <th>877619</th>\n",
       "      <td>3</td>\n",
       "      <td>2.0</td>\n",
       "      <td>1532</td>\n",
       "      <td>500000</td>\n",
       "      <td>1961</td>\n",
       "      <td>5839.49</td>\n",
       "      <td>6037</td>\n",
       "    </tr>\n",
       "    <tr>\n",
       "      <th>665807</th>\n",
       "      <td>3</td>\n",
       "      <td>2.0</td>\n",
       "      <td>1680</td>\n",
       "      <td>656866</td>\n",
       "      <td>1963</td>\n",
       "      <td>7692.52</td>\n",
       "      <td>6059</td>\n",
       "    </tr>\n",
       "  </tbody>\n",
       "</table>\n",
       "</div>"
      ],
      "text/plain": [
       "         bedroom  bathroom  area  tax_value  year_built  tax_amount  fips\n",
       "1927212        3       2.0  2365     529671        1976     5644.78  6111\n",
       "539627         4       3.0  2434     161495        1960     2103.93  6037\n",
       "1231220        3       2.0  1751     104395        1920     1405.93  6037\n",
       "877619         3       2.0  1532     500000        1961     5839.49  6037\n",
       "665807         3       2.0  1680     656866        1963     7692.52  6059"
      ]
     },
     "execution_count": 8,
     "metadata": {},
     "output_type": "execute_result"
    }
   ],
   "source": [
    "train.head()"
   ]
  },
  {
   "cell_type": "markdown",
   "id": "b248498b",
   "metadata": {},
   "source": [
    "2. Fit a linear regression model (ordinary least squares) and compute yhat, predictions of taxvaluedollarcnt using only calculatedfinishedsqft"
   ]
  },
  {
   "cell_type": "code",
   "execution_count": 9,
   "id": "08200114",
   "metadata": {},
   "outputs": [],
   "source": [
    "# using minmaxscaler\n",
    "scaler = MinMaxScaler()\n",
    "#fit the scaler on area \n",
    "scaler.fit_transform(train[[\"area\"]])\n",
    "#transform tax_value and area\n",
    "train[\"scaled_area\"]= scaler.transform(train[[\"area\"]])"
   ]
  },
  {
   "cell_type": "code",
   "execution_count": 10,
   "id": "c59ae4c4",
   "metadata": {},
   "outputs": [
    {
     "data": {
      "text/html": [
       "<div>\n",
       "<style scoped>\n",
       "    .dataframe tbody tr th:only-of-type {\n",
       "        vertical-align: middle;\n",
       "    }\n",
       "\n",
       "    .dataframe tbody tr th {\n",
       "        vertical-align: top;\n",
       "    }\n",
       "\n",
       "    .dataframe thead th {\n",
       "        text-align: right;\n",
       "    }\n",
       "</style>\n",
       "<table border=\"1\" class=\"dataframe\">\n",
       "  <thead>\n",
       "    <tr style=\"text-align: right;\">\n",
       "      <th></th>\n",
       "      <th>bedroom</th>\n",
       "      <th>bathroom</th>\n",
       "      <th>area</th>\n",
       "      <th>tax_value</th>\n",
       "      <th>year_built</th>\n",
       "      <th>tax_amount</th>\n",
       "      <th>fips</th>\n",
       "      <th>scaled_area</th>\n",
       "    </tr>\n",
       "  </thead>\n",
       "  <tbody>\n",
       "    <tr>\n",
       "      <th>1927212</th>\n",
       "      <td>3</td>\n",
       "      <td>2.0</td>\n",
       "      <td>2365</td>\n",
       "      <td>529671</td>\n",
       "      <td>1976</td>\n",
       "      <td>5644.78</td>\n",
       "      <td>6111</td>\n",
       "      <td>0.693686</td>\n",
       "    </tr>\n",
       "    <tr>\n",
       "      <th>539627</th>\n",
       "      <td>4</td>\n",
       "      <td>3.0</td>\n",
       "      <td>2434</td>\n",
       "      <td>161495</td>\n",
       "      <td>1960</td>\n",
       "      <td>2103.93</td>\n",
       "      <td>6037</td>\n",
       "      <td>0.713950</td>\n",
       "    </tr>\n",
       "    <tr>\n",
       "      <th>1231220</th>\n",
       "      <td>3</td>\n",
       "      <td>2.0</td>\n",
       "      <td>1751</td>\n",
       "      <td>104395</td>\n",
       "      <td>1920</td>\n",
       "      <td>1405.93</td>\n",
       "      <td>6037</td>\n",
       "      <td>0.513363</td>\n",
       "    </tr>\n",
       "    <tr>\n",
       "      <th>877619</th>\n",
       "      <td>3</td>\n",
       "      <td>2.0</td>\n",
       "      <td>1532</td>\n",
       "      <td>500000</td>\n",
       "      <td>1961</td>\n",
       "      <td>5839.49</td>\n",
       "      <td>6037</td>\n",
       "      <td>0.449046</td>\n",
       "    </tr>\n",
       "    <tr>\n",
       "      <th>665807</th>\n",
       "      <td>3</td>\n",
       "      <td>2.0</td>\n",
       "      <td>1680</td>\n",
       "      <td>656866</td>\n",
       "      <td>1963</td>\n",
       "      <td>7692.52</td>\n",
       "      <td>6059</td>\n",
       "      <td>0.492511</td>\n",
       "    </tr>\n",
       "  </tbody>\n",
       "</table>\n",
       "</div>"
      ],
      "text/plain": [
       "         bedroom  bathroom  area  tax_value  year_built  tax_amount  fips  \\\n",
       "1927212        3       2.0  2365     529671        1976     5644.78  6111   \n",
       "539627         4       3.0  2434     161495        1960     2103.93  6037   \n",
       "1231220        3       2.0  1751     104395        1920     1405.93  6037   \n",
       "877619         3       2.0  1532     500000        1961     5839.49  6037   \n",
       "665807         3       2.0  1680     656866        1963     7692.52  6059   \n",
       "\n",
       "         scaled_area  \n",
       "1927212     0.693686  \n",
       "539627      0.713950  \n",
       "1231220     0.513363  \n",
       "877619      0.449046  \n",
       "665807      0.492511  "
      ]
     },
     "execution_count": 10,
     "metadata": {},
     "output_type": "execute_result"
    }
   ],
   "source": [
    "train.head()"
   ]
  },
  {
   "cell_type": "code",
   "execution_count": 11,
   "id": "5fbfae40",
   "metadata": {},
   "outputs": [],
   "source": [
    "#create regression\n",
    "lm=LinearRegression()\n",
    "#fit\n",
    "lm.fit(train[[\"scaled_area\"]], train.tax_value)\n",
    "#predict\n",
    "train[\"tax_value_hat\"] = lm.predict(train[[\"scaled_area\"]])"
   ]
  },
  {
   "cell_type": "code",
   "execution_count": 12,
   "id": "799a5db5",
   "metadata": {},
   "outputs": [
    {
     "data": {
      "text/html": [
       "<div>\n",
       "<style scoped>\n",
       "    .dataframe tbody tr th:only-of-type {\n",
       "        vertical-align: middle;\n",
       "    }\n",
       "\n",
       "    .dataframe tbody tr th {\n",
       "        vertical-align: top;\n",
       "    }\n",
       "\n",
       "    .dataframe thead th {\n",
       "        text-align: right;\n",
       "    }\n",
       "</style>\n",
       "<table border=\"1\" class=\"dataframe\">\n",
       "  <thead>\n",
       "    <tr style=\"text-align: right;\">\n",
       "      <th></th>\n",
       "      <th>scaled_area</th>\n",
       "      <th>tax_value</th>\n",
       "      <th>tax_value_hat</th>\n",
       "    </tr>\n",
       "  </thead>\n",
       "  <tbody>\n",
       "    <tr>\n",
       "      <th>1927212</th>\n",
       "      <td>0.693686</td>\n",
       "      <td>529671</td>\n",
       "      <td>444523.330843</td>\n",
       "    </tr>\n",
       "    <tr>\n",
       "      <th>539627</th>\n",
       "      <td>0.713950</td>\n",
       "      <td>161495</td>\n",
       "      <td>455332.748152</td>\n",
       "    </tr>\n",
       "    <tr>\n",
       "      <th>1231220</th>\n",
       "      <td>0.513363</td>\n",
       "      <td>104395</td>\n",
       "      <td>348335.182615</td>\n",
       "    </tr>\n",
       "    <tr>\n",
       "      <th>877619</th>\n",
       "      <td>0.449046</td>\n",
       "      <td>500000</td>\n",
       "      <td>314027.032025</td>\n",
       "    </tr>\n",
       "    <tr>\n",
       "      <th>665807</th>\n",
       "      <td>0.492511</td>\n",
       "      <td>656866</td>\n",
       "      <td>337212.448862</td>\n",
       "    </tr>\n",
       "  </tbody>\n",
       "</table>\n",
       "</div>"
      ],
      "text/plain": [
       "         scaled_area  tax_value  tax_value_hat\n",
       "1927212     0.693686     529671  444523.330843\n",
       "539627      0.713950     161495  455332.748152\n",
       "1231220     0.513363     104395  348335.182615\n",
       "877619      0.449046     500000  314027.032025\n",
       "665807      0.492511     656866  337212.448862"
      ]
     },
     "execution_count": 12,
     "metadata": {},
     "output_type": "execute_result"
    }
   ],
   "source": [
    "#subset train data with only useful columns\n",
    "train_subset = train[[\"scaled_area\",\"tax_value\",\"tax_value_hat\"]]\n",
    "train_subset.head()"
   ]
  },
  {
   "cell_type": "markdown",
   "id": "065ea8c8",
   "metadata": {},
   "source": [
    "3. Plot the residuals for the linear regression model that you made."
   ]
  },
  {
   "cell_type": "code",
   "execution_count": 13,
   "id": "9300932e",
   "metadata": {},
   "outputs": [
    {
     "data": {
      "text/html": [
       "<div>\n",
       "<style scoped>\n",
       "    .dataframe tbody tr th:only-of-type {\n",
       "        vertical-align: middle;\n",
       "    }\n",
       "\n",
       "    .dataframe tbody tr th {\n",
       "        vertical-align: top;\n",
       "    }\n",
       "\n",
       "    .dataframe thead th {\n",
       "        text-align: right;\n",
       "    }\n",
       "</style>\n",
       "<table border=\"1\" class=\"dataframe\">\n",
       "  <thead>\n",
       "    <tr style=\"text-align: right;\">\n",
       "      <th></th>\n",
       "      <th>scaled_area</th>\n",
       "      <th>tax_value</th>\n",
       "      <th>tax_value_hat</th>\n",
       "      <th>residual</th>\n",
       "    </tr>\n",
       "  </thead>\n",
       "  <tbody>\n",
       "    <tr>\n",
       "      <th>1927212</th>\n",
       "      <td>0.693686</td>\n",
       "      <td>529671</td>\n",
       "      <td>444523.330843</td>\n",
       "      <td>85147.669157</td>\n",
       "    </tr>\n",
       "    <tr>\n",
       "      <th>539627</th>\n",
       "      <td>0.713950</td>\n",
       "      <td>161495</td>\n",
       "      <td>455332.748152</td>\n",
       "      <td>-293837.748152</td>\n",
       "    </tr>\n",
       "    <tr>\n",
       "      <th>1231220</th>\n",
       "      <td>0.513363</td>\n",
       "      <td>104395</td>\n",
       "      <td>348335.182615</td>\n",
       "      <td>-243940.182615</td>\n",
       "    </tr>\n",
       "    <tr>\n",
       "      <th>877619</th>\n",
       "      <td>0.449046</td>\n",
       "      <td>500000</td>\n",
       "      <td>314027.032025</td>\n",
       "      <td>185972.967975</td>\n",
       "    </tr>\n",
       "    <tr>\n",
       "      <th>665807</th>\n",
       "      <td>0.492511</td>\n",
       "      <td>656866</td>\n",
       "      <td>337212.448862</td>\n",
       "      <td>319653.551138</td>\n",
       "    </tr>\n",
       "  </tbody>\n",
       "</table>\n",
       "</div>"
      ],
      "text/plain": [
       "         scaled_area  tax_value  tax_value_hat       residual\n",
       "1927212     0.693686     529671  444523.330843   85147.669157\n",
       "539627      0.713950     161495  455332.748152 -293837.748152\n",
       "1231220     0.513363     104395  348335.182615 -243940.182615\n",
       "877619      0.449046     500000  314027.032025  185972.967975\n",
       "665807      0.492511     656866  337212.448862  319653.551138"
      ]
     },
     "execution_count": 13,
     "metadata": {},
     "output_type": "execute_result"
    }
   ],
   "source": [
    "#residual = actual - predicted\n",
    "train_subset[\"residual\"] = train_subset.tax_value - train_subset.tax_value_hat\n",
    "train_subset.head()"
   ]
  },
  {
   "cell_type": "code",
   "execution_count": 14,
   "id": "e4b855d1",
   "metadata": {},
   "outputs": [
    {
     "data": {
      "text/plain": [
       "Text(0.5, 0, 'tax_value')"
      ]
     },
     "execution_count": 14,
     "metadata": {},
     "output_type": "execute_result"
    },
    {
     "data": {
      "image/png": "[encoded data removed]",
      "text/plain": [
       "<Figure size 432x288 with 1 Axes>"
      ]
     },
     "metadata": {
      "needs_background": "light"
     },
     "output_type": "display_data"
    }
   ],
   "source": [
    "#plot tax value vs residual\n",
    "plt.scatter(y = \"residual\", x = \"tax_value\" , data = train_subset)\n",
    "plt.ylabel(\"residual\")\n",
    "plt.xlabel(\"tax_value\")"
   ]
  },
  {
   "cell_type": "code",
   "execution_count": 34,
   "id": "8f15aca0",
   "metadata": {},
   "outputs": [
    {
     "data": {
      "text/plain": [
       "Text(0, 0.5, 'Residual of Tax Value')"
      ]
     },
     "execution_count": 34,
     "metadata": {},
     "output_type": "execute_result"
    },
    {
     "data": {
      "image/png": "[encoded data removed]",
      "text/plain": [
       "<Figure size 432x288 with 1 Axes>"
      ]
     },
     "metadata": {
      "needs_background": "light"
     },
     "output_type": "display_data"
    }
   ],
   "source": [
    "#vizualise area vs residual\n",
    "plt.scatter(train_subset.scaled_area, train_subset.residual)\n",
    "plt.xlabel('scaled_area')\n",
    "plt.ylabel('Residual of Tax Value')"
   ]
  },
  {
   "cell_type": "markdown",
   "id": "d31302c7",
   "metadata": {},
   "source": [
    "4. Calculate the sum of squared errors, explained sum of squares, total sum of squares, mean squared error, and root mean squared error for your model"
   ]
  },
  {
   "cell_type": "code",
   "execution_count": 15,
   "id": "56ff00f1",
   "metadata": {},
   "outputs": [
    {
     "data": {
      "text/plain": [
       "3.5294031414104308e+16"
      ]
     },
     "execution_count": 15,
     "metadata": {},
     "output_type": "execute_result"
    }
   ],
   "source": [
    "#sum of squared errors\n",
    "train_subset['residual_squared'] = train_subset.residual ** 2\n",
    "SSE = train_subset.residual_squared.sum()\n",
    "SSE"
   ]
  },
  {
   "cell_type": "code",
   "execution_count": 16,
   "id": "0ac49a7f",
   "metadata": {},
   "outputs": [
    {
     "data": {
      "text/plain": [
       "8111405104328345.0"
      ]
     },
     "execution_count": 16,
     "metadata": {},
     "output_type": "execute_result"
    }
   ],
   "source": [
    "#explained sum of squared errors\n",
    "ESS = sum((train_subset.tax_value_hat - train_subset.tax_value.mean())**2)\n",
    "ESS"
   ]
  },
  {
   "cell_type": "code",
   "execution_count": 17,
   "id": "58004ee1",
   "metadata": {},
   "outputs": [
    {
     "data": {
      "text/plain": [
       "4.340543651843266e+16"
      ]
     },
     "execution_count": 17,
     "metadata": {},
     "output_type": "execute_result"
    }
   ],
   "source": [
    "#Total sum of squares\n",
    "TSS = ESS + SSE\n",
    "TSS"
   ]
  },
  {
   "cell_type": "code",
   "execution_count": 18,
   "id": "ebf3e2f1",
   "metadata": {},
   "outputs": [
    {
     "data": {
      "text/plain": [
       "34487135895.555984"
      ]
     },
     "execution_count": 18,
     "metadata": {},
     "output_type": "execute_result"
    }
   ],
   "source": [
    "#mean square error\n",
    "MSE = SSE/len(train_subset)\n",
    "MSE"
   ]
  },
  {
   "cell_type": "code",
   "execution_count": 19,
   "id": "dfe42cbb",
   "metadata": {},
   "outputs": [
    {
     "data": {
      "text/plain": [
       "185707.12397631918"
      ]
     },
     "execution_count": 19,
     "metadata": {},
     "output_type": "execute_result"
    }
   ],
   "source": [
    "#Root mean square error\n",
    "RMSE = MSE ** .5\n",
    "RMSE"
   ]
  },
  {
   "cell_type": "markdown",
   "id": "b7053794",
   "metadata": {},
   "source": [
    "5. Calculate the sum of squared errors, mean squared error, and root mean squared error for the baseline model (i.e. a model that always predicts the average taxvaluedollarcnt amount)"
   ]
  },
  {
   "cell_type": "code",
   "execution_count": 20,
   "id": "4be780a7",
   "metadata": {},
   "outputs": [
    {
     "data": {
      "text/html": [
       "<div>\n",
       "<style scoped>\n",
       "    .dataframe tbody tr th:only-of-type {\n",
       "        vertical-align: middle;\n",
       "    }\n",
       "\n",
       "    .dataframe tbody tr th {\n",
       "        vertical-align: top;\n",
       "    }\n",
       "\n",
       "    .dataframe thead th {\n",
       "        text-align: right;\n",
       "    }\n",
       "</style>\n",
       "<table border=\"1\" class=\"dataframe\">\n",
       "  <thead>\n",
       "    <tr style=\"text-align: right;\">\n",
       "      <th></th>\n",
       "      <th>scaled_area</th>\n",
       "      <th>tax_value</th>\n",
       "      <th>tax_value_hat</th>\n",
       "      <th>residual</th>\n",
       "      <th>residual_squared</th>\n",
       "    </tr>\n",
       "  </thead>\n",
       "  <tbody>\n",
       "    <tr>\n",
       "      <th>1927212</th>\n",
       "      <td>0.693686</td>\n",
       "      <td>529671</td>\n",
       "      <td>444523.330843</td>\n",
       "      <td>85147.669157</td>\n",
       "      <td>7.250126e+09</td>\n",
       "    </tr>\n",
       "  </tbody>\n",
       "</table>\n",
       "</div>"
      ],
      "text/plain": [
       "         scaled_area  tax_value  tax_value_hat      residual  residual_squared\n",
       "1927212     0.693686     529671  444523.330843  85147.669157      7.250126e+09"
      ]
     },
     "execution_count": 20,
     "metadata": {},
     "output_type": "execute_result"
    }
   ],
   "source": [
    "train_subset.head(1)"
   ]
  },
  {
   "cell_type": "code",
   "execution_count": 21,
   "id": "cbe16d4d",
   "metadata": {},
   "outputs": [
    {
     "data": {
      "text/html": [
       "<div>\n",
       "<style scoped>\n",
       "    .dataframe tbody tr th:only-of-type {\n",
       "        vertical-align: middle;\n",
       "    }\n",
       "\n",
       "    .dataframe tbody tr th {\n",
       "        vertical-align: top;\n",
       "    }\n",
       "\n",
       "    .dataframe thead th {\n",
       "        text-align: right;\n",
       "    }\n",
       "</style>\n",
       "<table border=\"1\" class=\"dataframe\">\n",
       "  <thead>\n",
       "    <tr style=\"text-align: right;\">\n",
       "      <th></th>\n",
       "      <th>scaled_area</th>\n",
       "      <th>tax_value</th>\n",
       "      <th>tax_value_hat</th>\n",
       "      <th>residual</th>\n",
       "      <th>residual_squared</th>\n",
       "      <th>baseline</th>\n",
       "    </tr>\n",
       "  </thead>\n",
       "  <tbody>\n",
       "    <tr>\n",
       "      <th>1927212</th>\n",
       "      <td>0.693686</td>\n",
       "      <td>529671</td>\n",
       "      <td>444523.330843</td>\n",
       "      <td>85147.669157</td>\n",
       "      <td>7.250126e+09</td>\n",
       "      <td>334441.879468</td>\n",
       "    </tr>\n",
       "    <tr>\n",
       "      <th>539627</th>\n",
       "      <td>0.713950</td>\n",
       "      <td>161495</td>\n",
       "      <td>455332.748152</td>\n",
       "      <td>-293837.748152</td>\n",
       "      <td>8.634062e+10</td>\n",
       "      <td>334441.879468</td>\n",
       "    </tr>\n",
       "  </tbody>\n",
       "</table>\n",
       "</div>"
      ],
      "text/plain": [
       "         scaled_area  tax_value  tax_value_hat       residual  \\\n",
       "1927212     0.693686     529671  444523.330843   85147.669157   \n",
       "539627      0.713950     161495  455332.748152 -293837.748152   \n",
       "\n",
       "         residual_squared       baseline  \n",
       "1927212      7.250126e+09  334441.879468  \n",
       "539627       8.634062e+10  334441.879468  "
      ]
     },
     "execution_count": 21,
     "metadata": {},
     "output_type": "execute_result"
    }
   ],
   "source": [
    "#baseline is the mean of the target\n",
    "train_subset[\"baseline\"] = train_subset.tax_value.mean()\n",
    "train_subset[:2]"
   ]
  },
  {
   "cell_type": "code",
   "execution_count": 22,
   "id": "8fbe6ca9",
   "metadata": {},
   "outputs": [
    {
     "data": {
      "text/plain": [
       "42413097281.33837"
      ]
     },
     "execution_count": 22,
     "metadata": {},
     "output_type": "execute_result"
    }
   ],
   "source": [
    "# Mean squared error\n",
    "MSE_baseline = mean_squared_error(train_subset.tax_value, train_subset.baseline)\n",
    "MSE_baseline"
   ]
  },
  {
   "cell_type": "code",
   "execution_count": 23,
   "id": "a447529c",
   "metadata": {},
   "outputs": [
    {
     "data": {
      "text/plain": [
       "4.340543651842985e+16"
      ]
     },
     "execution_count": 23,
     "metadata": {},
     "output_type": "execute_result"
    }
   ],
   "source": [
    "#Sum of squared error\n",
    "SSE_baseline = MSE_baseline * len(train_subset)\n",
    "SSE_baseline"
   ]
  },
  {
   "cell_type": "code",
   "execution_count": 24,
   "id": "ad5c61d0",
   "metadata": {},
   "outputs": [
    {
     "data": {
      "text/plain": [
       "205944.40337464472"
      ]
     },
     "execution_count": 24,
     "metadata": {},
     "output_type": "execute_result"
    }
   ],
   "source": [
    "#root mean square error\n",
    "RMSE_baseline = MSE_baseline ** 0.5\n",
    "RMSE_baseline"
   ]
  },
  {
   "cell_type": "code",
   "execution_count": 25,
   "id": "0943bebc",
   "metadata": {},
   "outputs": [
    {
     "data": {
      "text/plain": [
       "205944.40337464472"
      ]
     },
     "execution_count": 25,
     "metadata": {},
     "output_type": "execute_result"
    }
   ],
   "source": [
    "# another way for rmse\n",
    "RMSE_baseline = mean_squared_error(train_subset.tax_value, train_subset.baseline, squared = False)\n",
    "RMSE_baseline"
   ]
  },
  {
   "cell_type": "markdown",
   "id": "7f2d2873",
   "metadata": {},
   "source": [
    "6. Write python code that compares the sum of squared errors for your model against the sum of squared errors for the baseline model and outputs whether or not your model performs better than the baseline model."
   ]
  },
  {
   "cell_type": "code",
   "execution_count": 26,
   "id": "bb711b9e",
   "metadata": {},
   "outputs": [
    {
     "name": "stdout",
     "output_type": "stream",
     "text": [
      "our model is better than the baseline\n"
     ]
    }
   ],
   "source": [
    "#Evaluate the result of my model against the baseline\n",
    "if SSE < SSE_baseline:\n",
    "    print('our model is better than the baseline')\n",
    "else:\n",
    "    print('our model is not better than the baseline')"
   ]
  },
  {
   "cell_type": "markdown",
   "id": "bdea7f89",
   "metadata": {},
   "source": [
    "7. What is the amount of variance explained in your model?"
   ]
  },
  {
   "cell_type": "code",
   "execution_count": 27,
   "id": "3372b476",
   "metadata": {},
   "outputs": [
    {
     "data": {
      "text/plain": [
       "0.18687532610998478"
      ]
     },
     "execution_count": 27,
     "metadata": {},
     "output_type": "execute_result"
    }
   ],
   "source": [
    "#use formula for r2\n",
    "R2 = ESS/TSS\n",
    "R2"
   ]
  },
  {
   "cell_type": "code",
   "execution_count": 28,
   "id": "3f05f245",
   "metadata": {},
   "outputs": [
    {
     "data": {
      "text/plain": [
       "0.1868753261099323"
      ]
     },
     "execution_count": 28,
     "metadata": {},
     "output_type": "execute_result"
    }
   ],
   "source": [
    "#use sklearn to find r2\n",
    "r2_score(train_subset.tax_value, train_subset.tax_value_hat)"
   ]
  },
  {
   "cell_type": "markdown",
   "id": "e085266f",
   "metadata": {},
   "source": [
    "8. Is your model better than the baseline model?"
   ]
  },
  {
   "cell_type": "code",
   "execution_count": 29,
   "id": "0436e071",
   "metadata": {},
   "outputs": [
    {
     "data": {
      "text/plain": [
       "0.0"
      ]
     },
     "execution_count": 29,
     "metadata": {},
     "output_type": "execute_result"
    }
   ],
   "source": [
    "#for baseline\n",
    "baseline_accuracy = r2_score(train_subset.tax_value, train_subset.baseline)\n",
    "baseline_accuracy"
   ]
  },
  {
   "cell_type": "code",
   "execution_count": 30,
   "id": "9974191d",
   "metadata": {},
   "outputs": [],
   "source": [
    "#yes, the model is better than baseline"
   ]
  },
  {
   "cell_type": "markdown",
   "id": "8056e269",
   "metadata": {},
   "source": [
    "9. Create a file named evaluate.py that contains the following functions.\n",
    "\n",
    "plot_residuals(y, yhat): creates a residual plot\n",
    "\n",
    "regression_errors(y, yhat): returns the following values:\n",
    "sum of squared errors (SSE), explained sum of squares (ESS),total sum of squares (TSS), mean squared error (MSE), root mean squared error (RMSE)\n",
    "\n",
    "baseline_mean_errors(y): computes the SSE, MSE, and RMSE for the baseline model\n",
    "\n",
    "better_than_baseline(y, yhat): returns true if your model performs better than the baseline, otherwise false"
   ]
  },
  {
   "cell_type": "code",
   "execution_count": 31,
   "id": "017034b1",
   "metadata": {},
   "outputs": [],
   "source": [
    "def plot_residuals(y,yhat):\n",
    "    df['residual'] = df.y - df.yhat\n",
    "    plt.plot(df.y,df.residual)\n",
    "    "
   ]
  },
  {
   "cell_type": "code",
   "execution_count": 32,
   "id": "b8b8bffd",
   "metadata": {},
   "outputs": [],
   "source": [
    "def regression_errors(y,yhat):\n",
    "    MSE = mean_squared_error(df.y,df.yhat)\n",
    "    print(\"MSE:\", MSE) \n",
    "    RMSE = mean_squared_error(df.y,df.yhat,squared = False)\n",
    "    print(\"RMSE:\", RMSE)\n",
    "    SSE = MSE * len(df)\n",
    "    print(\"SSE:\", SSE)\n",
    "    ESS = sum((yhat - y.mean())**2)\n",
    "    \n",
    "    \n",
    "    "
   ]
  },
  {
   "cell_type": "markdown",
   "id": "7edb71f5",
   "metadata": {},
   "source": []
  },
  {
   "cell_type": "code",
   "execution_count": null,
   "id": "f220be82",
   "metadata": {},
   "outputs": [],
   "source": []
  },
  {
   "cell_type": "code",
   "execution_count": null,
   "id": "d820d00d",
   "metadata": {},
   "outputs": [],
   "source": []
  },
  {
   "cell_type": "code",
   "execution_count": null,
   "id": "3a6ec9ad",
   "metadata": {},
   "outputs": [],
   "source": []
  }
 ],
 "metadata": {
  "kernelspec": {
   "display_name": "Python 3 (ipykernel)",
   "language": "python",
   "name": "python3"
  },
  "language_info": {
   "codemirror_mode": {
    "name": "ipython",
    "version": 3
   },
   "file_extension": ".py",
   "mimetype": "text/x-python",
   "name": "python",
   "nbconvert_exporter": "python",
   "pygments_lexer": "ipython3",
   "version": "3.9.12"
  }
 },
 "nbformat": 4,
 "nbformat_minor": 5
}
