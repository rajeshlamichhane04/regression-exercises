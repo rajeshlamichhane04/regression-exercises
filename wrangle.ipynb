{
 "cells": [
  {
   "cell_type": "code",
   "execution_count": 4,
   "id": "5763d374",
   "metadata": {},
   "outputs": [],
   "source": [
    "#imports\n",
    "import pandas as pd\n",
    "import numpy as np\n",
    "import seaborn as sns\n",
    "import matplotlib.pyplot as plt\n",
    "import env\n",
    "import wrangle"
   ]
  },
  {
   "cell_type": "markdown",
   "id": "999a4721",
   "metadata": {},
   "source": [
    "1. Acquire bedroomcnt, bathroomcnt, calculatedfinishedsquarefeet, taxvaluedollarcnt, yearbuilt, taxamount, and fips from the zillow database for all 'Single Family Residential' properties."
   ]
  },
  {
   "cell_type": "code",
   "execution_count": 2,
   "id": "ddef2e17",
   "metadata": {},
   "outputs": [],
   "source": [
    "#sql query\n",
    "sql = \"\"\"\n",
    "SELECT bedroomcnt, bathroomcnt, calculatedfinishedsquarefeet, taxvaluedollarcnt, yearbuilt, taxamount,fips\n",
    "FROM properties_2017\n",
    "WHERE propertylandusetypeid = 261\n",
    "\n",
    "\"\"\""
   ]
  },
  {
   "cell_type": "code",
   "execution_count": 3,
   "id": "061b0564",
   "metadata": {},
   "outputs": [],
   "source": [
    "#connection setup\n",
    "def conn(db, user=env.user, host=env.host, password=env.password):\n",
    "    return f'mysql+pymysql://{user}:{password}@{host}/{db}'"
   ]
  },
  {
   "cell_type": "code",
   "execution_count": 4,
   "id": "79cf3f34",
   "metadata": {},
   "outputs": [],
   "source": [
    "#make function to acquire from sql\n",
    "def new_zillow_data():\n",
    "    #pull data from sql\n",
    "    df = pd.read_sql(sql,conn(\"zillow\"))\n",
    "    return df\n",
    "\n",
    "def get_zillow_data():\n",
    "    if os.path.isfile(\"zillow.csv\"):\n",
    "        #if csv is present locally, pull locally\n",
    "        df = pd.read_csv(\"zillow.csv\", index_col = 0)\n",
    "    else:\n",
    "        #if csv not present locally, use function to pull from sql\n",
    "        df = new_zillow_data()\n",
    "        df.to_csv(\"zillow.csv\")\n",
    "    return df"
   ]
  },
  {
   "cell_type": "code",
   "execution_count": 5,
   "id": "2311a8f9",
   "metadata": {},
   "outputs": [
    {
     "data": {
      "text/html": [
       "<div>\n",
       "<style scoped>\n",
       "    .dataframe tbody tr th:only-of-type {\n",
       "        vertical-align: middle;\n",
       "    }\n",
       "\n",
       "    .dataframe tbody tr th {\n",
       "        vertical-align: top;\n",
       "    }\n",
       "\n",
       "    .dataframe thead th {\n",
       "        text-align: right;\n",
       "    }\n",
       "</style>\n",
       "<table border=\"1\" class=\"dataframe\">\n",
       "  <thead>\n",
       "    <tr style=\"text-align: right;\">\n",
       "      <th></th>\n",
       "      <th>bedroomcnt</th>\n",
       "      <th>bathroomcnt</th>\n",
       "      <th>calculatedfinishedsquarefeet</th>\n",
       "      <th>taxvaluedollarcnt</th>\n",
       "      <th>yearbuilt</th>\n",
       "      <th>taxamount</th>\n",
       "      <th>fips</th>\n",
       "    </tr>\n",
       "  </thead>\n",
       "  <tbody>\n",
       "    <tr>\n",
       "      <th>0</th>\n",
       "      <td>0.0</td>\n",
       "      <td>0.0</td>\n",
       "      <td>NaN</td>\n",
       "      <td>27516.0</td>\n",
       "      <td>NaN</td>\n",
       "      <td>NaN</td>\n",
       "      <td>6037.0</td>\n",
       "    </tr>\n",
       "    <tr>\n",
       "      <th>1</th>\n",
       "      <td>0.0</td>\n",
       "      <td>0.0</td>\n",
       "      <td>NaN</td>\n",
       "      <td>10.0</td>\n",
       "      <td>NaN</td>\n",
       "      <td>NaN</td>\n",
       "      <td>6037.0</td>\n",
       "    </tr>\n",
       "    <tr>\n",
       "      <th>2</th>\n",
       "      <td>0.0</td>\n",
       "      <td>0.0</td>\n",
       "      <td>NaN</td>\n",
       "      <td>10.0</td>\n",
       "      <td>NaN</td>\n",
       "      <td>NaN</td>\n",
       "      <td>6037.0</td>\n",
       "    </tr>\n",
       "    <tr>\n",
       "      <th>3</th>\n",
       "      <td>0.0</td>\n",
       "      <td>0.0</td>\n",
       "      <td>NaN</td>\n",
       "      <td>2108.0</td>\n",
       "      <td>NaN</td>\n",
       "      <td>174.21</td>\n",
       "      <td>6037.0</td>\n",
       "    </tr>\n",
       "    <tr>\n",
       "      <th>4</th>\n",
       "      <td>4.0</td>\n",
       "      <td>2.0</td>\n",
       "      <td>3633.0</td>\n",
       "      <td>296425.0</td>\n",
       "      <td>2005.0</td>\n",
       "      <td>6941.39</td>\n",
       "      <td>6037.0</td>\n",
       "    </tr>\n",
       "  </tbody>\n",
       "</table>\n",
       "</div>"
      ],
      "text/plain": [
       "   bedroomcnt  bathroomcnt  calculatedfinishedsquarefeet  taxvaluedollarcnt  \\\n",
       "0         0.0          0.0                           NaN            27516.0   \n",
       "1         0.0          0.0                           NaN               10.0   \n",
       "2         0.0          0.0                           NaN               10.0   \n",
       "3         0.0          0.0                           NaN             2108.0   \n",
       "4         4.0          2.0                        3633.0           296425.0   \n",
       "\n",
       "   yearbuilt  taxamount    fips  \n",
       "0        NaN        NaN  6037.0  \n",
       "1        NaN        NaN  6037.0  \n",
       "2        NaN        NaN  6037.0  \n",
       "3        NaN     174.21  6037.0  \n",
       "4     2005.0    6941.39  6037.0  "
      ]
     },
     "execution_count": 5,
     "metadata": {},
     "output_type": "execute_result"
    }
   ],
   "source": [
    "#acquire dataframe\n",
    "df = wrangle.get_zillow_data()\n",
    "df.head()"
   ]
  },
  {
   "cell_type": "markdown",
   "id": "687e7b94",
   "metadata": {},
   "source": [
    "2. Using your acquired Zillow data, walk through the summarization and cleaning steps in your wrangle.ipynb file like we did above. You may handle the missing values however you feel is appropriate and meaningful; remember to document your process and decisions using markdown and code commenting where helpful"
   ]
  },
  {
   "cell_type": "code",
   "execution_count": 6,
   "id": "a2f89b95",
   "metadata": {},
   "outputs": [
    {
     "name": "stdout",
     "output_type": "stream",
     "text": [
      "<class 'pandas.core.frame.DataFrame'>\n",
      "Int64Index: 2152863 entries, 0 to 2152862\n",
      "Data columns (total 7 columns):\n",
      " #   Column                        Non-Null Count    Dtype  \n",
      "---  ------                        --------------    -----  \n",
      " 0   bedroomcnt                    2152852 non-null  float64\n",
      " 1   bathroomcnt                   2152852 non-null  float64\n",
      " 2   calculatedfinishedsquarefeet  2144379 non-null  float64\n",
      " 3   taxvaluedollarcnt             2152370 non-null  float64\n",
      " 4   yearbuilt                     2143526 non-null  float64\n",
      " 5   taxamount                     2148421 non-null  float64\n",
      " 6   fips                          2152863 non-null  float64\n",
      "dtypes: float64(7)\n",
      "memory usage: 131.4 MB\n"
     ]
    }
   ],
   "source": [
    "#show info with counts\n",
    "df.info(show_counts = True)"
   ]
  },
  {
   "cell_type": "code",
   "execution_count": 7,
   "id": "fcbea3bf",
   "metadata": {},
   "outputs": [
    {
     "data": {
      "text/html": [
       "<div>\n",
       "<style scoped>\n",
       "    .dataframe tbody tr th:only-of-type {\n",
       "        vertical-align: middle;\n",
       "    }\n",
       "\n",
       "    .dataframe tbody tr th {\n",
       "        vertical-align: top;\n",
       "    }\n",
       "\n",
       "    .dataframe thead th {\n",
       "        text-align: right;\n",
       "    }\n",
       "</style>\n",
       "<table border=\"1\" class=\"dataframe\">\n",
       "  <thead>\n",
       "    <tr style=\"text-align: right;\">\n",
       "      <th></th>\n",
       "      <th>count</th>\n",
       "      <th>mean</th>\n",
       "      <th>std</th>\n",
       "      <th>min</th>\n",
       "      <th>25%</th>\n",
       "      <th>50%</th>\n",
       "      <th>75%</th>\n",
       "      <th>max</th>\n",
       "    </tr>\n",
       "  </thead>\n",
       "  <tbody>\n",
       "    <tr>\n",
       "      <th>bedroomcnt</th>\n",
       "      <td>2152852.0</td>\n",
       "      <td>3.287196</td>\n",
       "      <td>0.954754</td>\n",
       "      <td>0.00</td>\n",
       "      <td>3.00</td>\n",
       "      <td>3.00</td>\n",
       "      <td>4.00</td>\n",
       "      <td>25.00</td>\n",
       "    </tr>\n",
       "    <tr>\n",
       "      <th>bathroomcnt</th>\n",
       "      <td>2152852.0</td>\n",
       "      <td>2.230688</td>\n",
       "      <td>0.999280</td>\n",
       "      <td>0.00</td>\n",
       "      <td>2.00</td>\n",
       "      <td>2.00</td>\n",
       "      <td>3.00</td>\n",
       "      <td>32.00</td>\n",
       "    </tr>\n",
       "    <tr>\n",
       "      <th>calculatedfinishedsquarefeet</th>\n",
       "      <td>2144379.0</td>\n",
       "      <td>1862.855178</td>\n",
       "      <td>1222.125124</td>\n",
       "      <td>1.00</td>\n",
       "      <td>1257.00</td>\n",
       "      <td>1623.00</td>\n",
       "      <td>2208.00</td>\n",
       "      <td>952576.00</td>\n",
       "    </tr>\n",
       "    <tr>\n",
       "      <th>taxvaluedollarcnt</th>\n",
       "      <td>2152370.0</td>\n",
       "      <td>461896.237963</td>\n",
       "      <td>699676.049600</td>\n",
       "      <td>1.00</td>\n",
       "      <td>188170.25</td>\n",
       "      <td>327671.00</td>\n",
       "      <td>534527.00</td>\n",
       "      <td>98428909.00</td>\n",
       "    </tr>\n",
       "    <tr>\n",
       "      <th>yearbuilt</th>\n",
       "      <td>2143526.0</td>\n",
       "      <td>1960.949681</td>\n",
       "      <td>22.162196</td>\n",
       "      <td>1801.00</td>\n",
       "      <td>1949.00</td>\n",
       "      <td>1958.00</td>\n",
       "      <td>1976.00</td>\n",
       "      <td>2016.00</td>\n",
       "    </tr>\n",
       "    <tr>\n",
       "      <th>taxamount</th>\n",
       "      <td>2148421.0</td>\n",
       "      <td>5634.865978</td>\n",
       "      <td>8178.910249</td>\n",
       "      <td>1.85</td>\n",
       "      <td>2534.98</td>\n",
       "      <td>4108.95</td>\n",
       "      <td>6414.32</td>\n",
       "      <td>1337755.86</td>\n",
       "    </tr>\n",
       "    <tr>\n",
       "      <th>fips</th>\n",
       "      <td>2152863.0</td>\n",
       "      <td>6048.377335</td>\n",
       "      <td>20.433292</td>\n",
       "      <td>6037.00</td>\n",
       "      <td>6037.00</td>\n",
       "      <td>6037.00</td>\n",
       "      <td>6059.00</td>\n",
       "      <td>6111.00</td>\n",
       "    </tr>\n",
       "  </tbody>\n",
       "</table>\n",
       "</div>"
      ],
      "text/plain": [
       "                                  count           mean            std  \\\n",
       "bedroomcnt                    2152852.0       3.287196       0.954754   \n",
       "bathroomcnt                   2152852.0       2.230688       0.999280   \n",
       "calculatedfinishedsquarefeet  2144379.0    1862.855178    1222.125124   \n",
       "taxvaluedollarcnt             2152370.0  461896.237963  699676.049600   \n",
       "yearbuilt                     2143526.0    1960.949681      22.162196   \n",
       "taxamount                     2148421.0    5634.865978    8178.910249   \n",
       "fips                          2152863.0    6048.377335      20.433292   \n",
       "\n",
       "                                  min        25%        50%        75%  \\\n",
       "bedroomcnt                       0.00       3.00       3.00       4.00   \n",
       "bathroomcnt                      0.00       2.00       2.00       3.00   \n",
       "calculatedfinishedsquarefeet     1.00    1257.00    1623.00    2208.00   \n",
       "taxvaluedollarcnt                1.00  188170.25  327671.00  534527.00   \n",
       "yearbuilt                     1801.00    1949.00    1958.00    1976.00   \n",
       "taxamount                        1.85    2534.98    4108.95    6414.32   \n",
       "fips                          6037.00    6037.00    6037.00    6059.00   \n",
       "\n",
       "                                      max  \n",
       "bedroomcnt                          25.00  \n",
       "bathroomcnt                         32.00  \n",
       "calculatedfinishedsquarefeet    952576.00  \n",
       "taxvaluedollarcnt             98428909.00  \n",
       "yearbuilt                         2016.00  \n",
       "taxamount                      1337755.86  \n",
       "fips                              6111.00  "
      ]
     },
     "execution_count": 7,
     "metadata": {},
     "output_type": "execute_result"
    }
   ],
   "source": [
    "#see numerical values of data\n",
    "df.describe().T"
   ]
  },
  {
   "cell_type": "code",
   "execution_count": 8,
   "id": "9466cea7",
   "metadata": {},
   "outputs": [
    {
     "data": {
      "text/plain": [
       "bedroomcnt                       True\n",
       "bathroomcnt                      True\n",
       "calculatedfinishedsquarefeet     True\n",
       "taxvaluedollarcnt                True\n",
       "yearbuilt                        True\n",
       "taxamount                        True\n",
       "fips                            False\n",
       "dtype: bool"
      ]
     },
     "execution_count": 8,
     "metadata": {},
     "output_type": "execute_result"
    }
   ],
   "source": [
    "#check which columns has null\n",
    "df.isnull().any()"
   ]
  },
  {
   "cell_type": "code",
   "execution_count": 10,
   "id": "03a58330",
   "metadata": {},
   "outputs": [
    {
     "data": {
      "text/plain": [
       "bedroomcnt                        11\n",
       "bathroomcnt                       11\n",
       "calculatedfinishedsquarefeet    8484\n",
       "taxvaluedollarcnt                493\n",
       "yearbuilt                       9337\n",
       "taxamount                       4442\n",
       "fips                               0\n",
       "dtype: int64"
      ]
     },
     "execution_count": 10,
     "metadata": {},
     "output_type": "execute_result"
    }
   ],
   "source": [
    "#sum of null column wise\n",
    "df.isna().sum()"
   ]
  },
  {
   "cell_type": "code",
   "execution_count": 6,
   "id": "8a814eca",
   "metadata": {},
   "outputs": [
    {
     "data": {
      "text/plain": [
       "bedroomcnt                      0.000511\n",
       "bathroomcnt                     0.000511\n",
       "calculatedfinishedsquarefeet    0.394080\n",
       "taxvaluedollarcnt               0.022900\n",
       "yearbuilt                       0.433702\n",
       "taxamount                       0.206330\n",
       "fips                            0.000000\n",
       "dtype: float64"
      ]
     },
     "execution_count": 6,
     "metadata": {},
     "output_type": "execute_result"
    }
   ],
   "source": [
    "# find what percentage are those null\n",
    "df.isna().mean().mul(100)"
   ]
  },
  {
   "cell_type": "markdown",
   "id": "068d8543",
   "metadata": {},
   "source": [
    "all null values in each columns are less than 0.5% of our dataset. we can remove those nulls without impcating our data"
   ]
  },
  {
   "cell_type": "code",
   "execution_count": 7,
   "id": "612418a2",
   "metadata": {},
   "outputs": [],
   "source": [
    "#drop all the null and assign it back \n",
    "df=df.dropna()"
   ]
  },
  {
   "cell_type": "code",
   "execution_count": 8,
   "id": "6c2392e4",
   "metadata": {},
   "outputs": [
    {
     "name": "stdout",
     "output_type": "stream",
     "text": [
      "<class 'pandas.core.frame.DataFrame'>\n",
      "Int64Index: 2140235 entries, 4 to 2152862\n",
      "Data columns (total 7 columns):\n",
      " #   Column                        Non-Null Count    Dtype  \n",
      "---  ------                        --------------    -----  \n",
      " 0   bedroomcnt                    2140235 non-null  float64\n",
      " 1   bathroomcnt                   2140235 non-null  float64\n",
      " 2   calculatedfinishedsquarefeet  2140235 non-null  float64\n",
      " 3   taxvaluedollarcnt             2140235 non-null  float64\n",
      " 4   yearbuilt                     2140235 non-null  float64\n",
      " 5   taxamount                     2140235 non-null  float64\n",
      " 6   fips                          2140235 non-null  float64\n",
      "dtypes: float64(7)\n",
      "memory usage: 130.6 MB\n"
     ]
    }
   ],
   "source": [
    "df.info(show_counts = True)"
   ]
  },
  {
   "cell_type": "code",
   "execution_count": 9,
   "id": "d45ab10b",
   "metadata": {},
   "outputs": [
    {
     "data": {
      "text/plain": [
       "3.0     962944\n",
       "4.0     633608\n",
       "2.0     334221\n",
       "5.0     150671\n",
       "6.0      25117\n",
       "1.0      22895\n",
       "7.0       4792\n",
       "0.0       4397\n",
       "8.0       1103\n",
       "9.0        290\n",
       "10.0       118\n",
       "11.0        34\n",
       "13.0        15\n",
       "12.0        12\n",
       "14.0         7\n",
       "15.0         5\n",
       "18.0         3\n",
       "16.0         2\n",
       "25.0         1\n",
       "Name: bedroomcnt, dtype: int64"
      ]
     },
     "execution_count": 9,
     "metadata": {},
     "output_type": "execute_result"
    }
   ],
   "source": [
    "#see whats insise bedroom count\n",
    "df.bedroomcnt.value_counts()"
   ]
  },
  {
   "cell_type": "markdown",
   "id": "3db63b58",
   "metadata": {},
   "source": [
    "we should change float values of bedroom to int, cannot have decimal value"
   ]
  },
  {
   "cell_type": "code",
   "execution_count": 15,
   "id": "03111bd3",
   "metadata": {},
   "outputs": [],
   "source": [
    "#convert datatype float to int\n",
    "df.bedroomcnt = df.bedroomcnt.astype(\"int64\")"
   ]
  },
  {
   "cell_type": "code",
   "execution_count": 26,
   "id": "a5c2b7df",
   "metadata": {},
   "outputs": [
    {
     "data": {
      "text/plain": [
       "2.00     942463\n",
       "3.00     422398\n",
       "1.00     412582\n",
       "2.50     142827\n",
       "4.00      82039\n",
       "1.50      31157\n",
       "3.50      28464\n",
       "5.00      28306\n",
       "4.50      19474\n",
       "6.00      10717\n",
       "5.50       6201\n",
       "7.00       4381\n",
       "0.00       4274\n",
       "8.00       1681\n",
       "6.50       1330\n",
       "9.00        707\n",
       "7.50        382\n",
       "10.00       322\n",
       "11.00       145\n",
       "8.50        108\n",
       "12.00        73\n",
       "9.50         50\n",
       "13.00        39\n",
       "14.00        25\n",
       "15.00        17\n",
       "0.50         16\n",
       "10.50        14\n",
       "16.00        12\n",
       "18.00         8\n",
       "20.00         6\n",
       "17.00         4\n",
       "1.75          3\n",
       "12.50         3\n",
       "11.50         3\n",
       "19.50         1\n",
       "14.50         1\n",
       "32.00         1\n",
       "19.00         1\n",
       "Name: bathroomcnt, dtype: int64"
      ]
     },
     "execution_count": 26,
     "metadata": {},
     "output_type": "execute_result"
    }
   ],
   "source": [
    "#value count for bathroom\n",
    "df.bathroomcnt.value_counts()"
   ]
  },
  {
   "cell_type": "markdown",
   "id": "432c0d13",
   "metadata": {},
   "source": [
    "we can have bathroom in full, hlaf or in three quarter? crazy, so we will not cast it to int"
   ]
  },
  {
   "cell_type": "code",
   "execution_count": 28,
   "id": "06f30fae",
   "metadata": {},
   "outputs": [
    {
     "data": {
      "text/plain": [
       "1200.0     5184\n",
       "1080.0     4376\n",
       "1120.0     4354\n",
       "1400.0     3828\n",
       "1440.0     3684\n",
       "           ... \n",
       "10180.0       1\n",
       "13169.0       1\n",
       "9095.0        1\n",
       "10525.0       1\n",
       "24920.0       1\n",
       "Name: calculatedfinishedsquarefeet, Length: 10557, dtype: int64"
      ]
     },
     "execution_count": 28,
     "metadata": {},
     "output_type": "execute_result"
    }
   ],
   "source": [
    "#get value count\n",
    "df.calculatedfinishedsquarefeet.value_counts()"
   ]
  },
  {
   "cell_type": "markdown",
   "id": "b0604b2c",
   "metadata": {},
   "source": [
    "all values after decimals seem to be zero. we can convert it to int. first lets see if we lose value"
   ]
  },
  {
   "cell_type": "code",
   "execution_count": 18,
   "id": "9137a2ed",
   "metadata": {},
   "outputs": [
    {
     "data": {
      "text/plain": [
       "1.0"
      ]
     },
     "execution_count": 18,
     "metadata": {},
     "output_type": "execute_result"
    }
   ],
   "source": [
    "#divide mean of float value by mean of value casted into int\n",
    "(df.calculatedfinishedsquarefeet.mean())/(df.calculatedfinishedsquarefeet.astype(\"int64\").mean())"
   ]
  },
  {
   "cell_type": "code",
   "execution_count": 19,
   "id": "a7021536",
   "metadata": {},
   "outputs": [],
   "source": [
    "#there is no data loss so we can convert float to int\n",
    "df.calculatedfinishedsquarefeet = df.calculatedfinishedsquarefeet.astype(\"int64\")"
   ]
  },
  {
   "cell_type": "code",
   "execution_count": 11,
   "id": "cb40ab6b",
   "metadata": {},
   "outputs": [
    {
     "data": {
      "text/plain": [
       "450000.0    820\n",
       "500000.0    774\n",
       "400000.0    723\n",
       "430000.0    690\n",
       "440000.0    683\n",
       "           ... \n",
       "729523.0      1\n",
       "940139.0      1\n",
       "545367.0      1\n",
       "38804.0       1\n",
       "536061.0      1\n",
       "Name: taxvaluedollarcnt, Length: 588178, dtype: int64"
      ]
     },
     "execution_count": 11,
     "metadata": {},
     "output_type": "execute_result"
    }
   ],
   "source": [
    "#value counts\n",
    "df.taxvaluedollarcnt.value_counts()"
   ]
  },
  {
   "cell_type": "markdown",
   "id": "0a766b5c",
   "metadata": {},
   "source": [
    "we can convert this float to int, first lets see if we lose data during conversion"
   ]
  },
  {
   "cell_type": "code",
   "execution_count": 20,
   "id": "ec64bdd1",
   "metadata": {},
   "outputs": [
    {
     "data": {
      "text/plain": [
       "1.0"
      ]
     },
     "execution_count": 20,
     "metadata": {},
     "output_type": "execute_result"
    }
   ],
   "source": [
    "# divide average value with float by average value with int\n",
    "df.taxvaluedollarcnt.mean()/df.taxvaluedollarcnt.astype(\"int64\").mean()"
   ]
  },
  {
   "cell_type": "code",
   "execution_count": 21,
   "id": "72b80988",
   "metadata": {},
   "outputs": [],
   "source": [
    "# no loss in data so cast it to into int\n",
    "df.taxvaluedollarcnt = df.taxvaluedollarcnt.astype(\"int64\")"
   ]
  },
  {
   "cell_type": "code",
   "execution_count": 12,
   "id": "f42cf465",
   "metadata": {},
   "outputs": [
    {
     "data": {
      "text/plain": [
       "1955.0    84329\n",
       "1950.0    71606\n",
       "1954.0    69069\n",
       "1953.0    62270\n",
       "1956.0    61858\n",
       "          ...  \n",
       "1855.0        1\n",
       "1879.0        1\n",
       "1833.0        1\n",
       "1840.0        1\n",
       "1874.0        1\n",
       "Name: yearbuilt, Length: 153, dtype: int64"
      ]
     },
     "execution_count": 12,
     "metadata": {},
     "output_type": "execute_result"
    }
   ],
   "source": [
    "#value count for yearbuilt\n",
    "df.yearbuilt.value_counts()"
   ]
  },
  {
   "cell_type": "code",
   "execution_count": 22,
   "id": "d201e82f",
   "metadata": {},
   "outputs": [
    {
     "data": {
      "text/plain": [
       "1.0"
      ]
     },
     "execution_count": 22,
     "metadata": {},
     "output_type": "execute_result"
    }
   ],
   "source": [
    "#divide mean of float value by its value to see data loss\n",
    "df.yearbuilt.mean()/df.yearbuilt.astype(\"int64\").mean()"
   ]
  },
  {
   "cell_type": "code",
   "execution_count": 23,
   "id": "4f343e78",
   "metadata": {},
   "outputs": [],
   "source": [
    "#since there is no data loss, convert the column to int\n",
    "df.yearbuilt = df.yearbuilt.astype(\"int64\")"
   ]
  },
  {
   "cell_type": "code",
   "execution_count": 13,
   "id": "17674c45",
   "metadata": {},
   "outputs": [
    {
     "data": {
      "text/plain": [
       "345.72      172\n",
       "344.18       76\n",
       "343.52       74\n",
       "49.18        46\n",
       "388.18       37\n",
       "           ... \n",
       "8191.38       1\n",
       "11627.92      1\n",
       "15008.68      1\n",
       "9227.22       1\n",
       "13494.52      1\n",
       "Name: taxamount, Length: 915868, dtype: int64"
      ]
     },
     "execution_count": 13,
     "metadata": {},
     "output_type": "execute_result"
    }
   ],
   "source": [
    "#value count for taxamount. it seems to continous data so we will not convert it\n",
    "df.taxamount.value_counts()"
   ]
  },
  {
   "cell_type": "code",
   "execution_count": 14,
   "id": "c8ea799d",
   "metadata": {},
   "outputs": [
    {
     "data": {
      "text/plain": [
       "6037.0    1425207\n",
       "6059.0     552057\n",
       "6111.0     162971\n",
       "Name: fips, dtype: int64"
      ]
     },
     "execution_count": 14,
     "metadata": {},
     "output_type": "execute_result"
    }
   ],
   "source": [
    "#value count of fips\n",
    "df.fips.value_counts()"
   ]
  },
  {
   "cell_type": "code",
   "execution_count": 24,
   "id": "50df99cd",
   "metadata": {},
   "outputs": [],
   "source": [
    "# convert it into int \n",
    "df.fips = df.fips.astype(\"int64\")"
   ]
  },
  {
   "cell_type": "code",
   "execution_count": 25,
   "id": "a717b9d4",
   "metadata": {},
   "outputs": [
    {
     "name": "stdout",
     "output_type": "stream",
     "text": [
      "<class 'pandas.core.frame.DataFrame'>\n",
      "Int64Index: 2140235 entries, 4 to 2152862\n",
      "Data columns (total 7 columns):\n",
      " #   Column                        Dtype  \n",
      "---  ------                        -----  \n",
      " 0   bedroomcnt                    int64  \n",
      " 1   bathroomcnt                   float64\n",
      " 2   calculatedfinishedsquarefeet  int64  \n",
      " 3   taxvaluedollarcnt             int64  \n",
      " 4   yearbuilt                     int64  \n",
      " 5   taxamount                     float64\n",
      " 6   fips                          int64  \n",
      "dtypes: float64(2), int64(5)\n",
      "memory usage: 130.6 MB\n"
     ]
    }
   ],
   "source": [
    "#how did casting work?\n",
    "df.info()"
   ]
  },
  {
   "cell_type": "code",
   "execution_count": 56,
   "id": "474c9392",
   "metadata": {},
   "outputs": [
    {
     "data": {
      "image/png": "[encoded data removed]",
      "text/plain": [
       "<Figure size 432x288 with 1 Axes>"
      ]
     },
     "metadata": {
      "needs_background": "light"
     },
     "output_type": "display_data"
    },
    {
     "data": {
      "image/png": "[encoded data removed]",
      "text/plain": [
       "<Figure size 432x288 with 1 Axes>"
      ]
     },
     "metadata": {
      "needs_background": "light"
     },
     "output_type": "display_data"
    },
    {
     "data": {
      "image/png": "[encoded data removed]",
      "text/plain": [
       "<Figure size 432x288 with 1 Axes>"
      ]
     },
     "metadata": {
      "needs_background": "light"
     },
     "output_type": "display_data"
    },
    {
     "data": {
      "image/png": "[encoded data removed]",
      "text/plain": [
       "<Figure size 432x288 with 1 Axes>"
      ]
     },
     "metadata": {
      "needs_background": "light"
     },
     "output_type": "display_data"
    },
    {
     "data": {
      "image/png": "[encoded data removed]",
      "text/plain": [
       "<Figure size 432x288 with 1 Axes>"
      ]
     },
     "metadata": {
      "needs_background": "light"
     },
     "output_type": "display_data"
    },
    {
     "data": {
      "image/png": "[encoded data removed]",
      "text/plain": [
       "<Figure size 432x288 with 1 Axes>"
      ]
     },
     "metadata": {
      "needs_background": "light"
     },
     "output_type": "display_data"
    },
    {
     "data": {
      "image/png": "[encoded data removed]",
      "text/plain": [
       "<Figure size 432x288 with 1 Axes>"
      ]
     },
     "metadata": {
      "needs_background": "light"
     },
     "output_type": "display_data"
    }
   ],
   "source": [
    "#plot histoplot to see distribution of data\n",
    "for i in df.columns:\n",
    "    sns.histplot(df[i], bins = 20)\n",
    "    plt.title(i)\n",
    "    plt.show()"
   ]
  },
  {
   "cell_type": "code",
   "execution_count": null,
   "id": "ba0a8e2e",
   "metadata": {},
   "outputs": [],
   "source": []
  },
  {
   "cell_type": "code",
   "execution_count": null,
   "id": "32dd3e7a",
   "metadata": {},
   "outputs": [],
   "source": []
  },
  {
   "cell_type": "code",
   "execution_count": null,
   "id": "41a1df1b",
   "metadata": {},
   "outputs": [],
   "source": []
  },
  {
   "cell_type": "code",
   "execution_count": null,
   "id": "dce0a037",
   "metadata": {},
   "outputs": [],
   "source": []
  }
 ],
 "metadata": {
  "kernelspec": {
   "display_name": "Python 3 (ipykernel)",
   "language": "python",
   "name": "python3"
  },
  "language_info": {
   "codemirror_mode": {
    "name": "ipython",
    "version": 3
   },
   "file_extension": ".py",
   "mimetype": "text/x-python",
   "name": "python",
   "nbconvert_exporter": "python",
   "pygments_lexer": "ipython3",
   "version": "3.9.12"
  }
 },
 "nbformat": 4,
 "nbformat_minor": 5
}
