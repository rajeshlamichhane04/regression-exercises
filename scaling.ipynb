{
 "cells": [
  {
   "cell_type": "markdown",
   "id": "b0144620",
   "metadata": {},
   "source": [
    "Scaling exercises\n",
    "\n",
    "\n",
    "Do your work for these exercises in a jupyter notebook named scaling. Use the zillow dataset you acquired and prepped in previous lesson. Once you are finished, you may wish to repeat the exercises on another dataset for additional practice."
   ]
  },
  {
   "cell_type": "markdown",
   "id": "90c951c0",
   "metadata": {},
   "source": [
    "1. Apply the scalers we talked about in this lesson to your data and visualize the results for the unscaled and scaled distribution"
   ]
  },
  {
   "cell_type": "code",
   "execution_count": 1,
   "id": "56a0885f",
   "metadata": {},
   "outputs": [],
   "source": [
    "#imports\n",
    "import sklearn.preprocessing\n",
    "from sklearn.model_selection import train_test_split\n",
    "from sklearn.preprocessing import MinMaxScaler, StandardScaler, RobustScaler, QuantileTransformer\n",
    "import numpy as np\n",
    "import pandas as pd\n",
    "import seaborn as sns\n",
    "import matplotlib.pyplot as plt\n",
    "import wrangle\n",
    "import warnings\n",
    "warnings.filterwarnings(\"ignore\")"
   ]
  },
  {
   "cell_type": "code",
   "execution_count": 2,
   "id": "a3d967b1",
   "metadata": {},
   "outputs": [
    {
     "data": {
      "text/html": [
       "<div>\n",
       "<style scoped>\n",
       "    .dataframe tbody tr th:only-of-type {\n",
       "        vertical-align: middle;\n",
       "    }\n",
       "\n",
       "    .dataframe tbody tr th {\n",
       "        vertical-align: top;\n",
       "    }\n",
       "\n",
       "    .dataframe thead th {\n",
       "        text-align: right;\n",
       "    }\n",
       "</style>\n",
       "<table border=\"1\" class=\"dataframe\">\n",
       "  <thead>\n",
       "    <tr style=\"text-align: right;\">\n",
       "      <th></th>\n",
       "      <th>bedroom</th>\n",
       "      <th>bathroom</th>\n",
       "      <th>area</th>\n",
       "      <th>tax_value</th>\n",
       "      <th>year_built</th>\n",
       "      <th>tax_amount</th>\n",
       "      <th>fips</th>\n",
       "    </tr>\n",
       "  </thead>\n",
       "  <tbody>\n",
       "    <tr>\n",
       "      <th>7</th>\n",
       "      <td>3</td>\n",
       "      <td>2.0</td>\n",
       "      <td>2077</td>\n",
       "      <td>646760</td>\n",
       "      <td>1926</td>\n",
       "      <td>7924.68</td>\n",
       "      <td>6037</td>\n",
       "    </tr>\n",
       "    <tr>\n",
       "      <th>18</th>\n",
       "      <td>3</td>\n",
       "      <td>1.0</td>\n",
       "      <td>1244</td>\n",
       "      <td>169471</td>\n",
       "      <td>1950</td>\n",
       "      <td>2532.88</td>\n",
       "      <td>6037</td>\n",
       "    </tr>\n",
       "    <tr>\n",
       "      <th>19</th>\n",
       "      <td>3</td>\n",
       "      <td>2.0</td>\n",
       "      <td>1300</td>\n",
       "      <td>233266</td>\n",
       "      <td>1950</td>\n",
       "      <td>3110.99</td>\n",
       "      <td>6037</td>\n",
       "    </tr>\n",
       "    <tr>\n",
       "      <th>20</th>\n",
       "      <td>3</td>\n",
       "      <td>2.0</td>\n",
       "      <td>1222</td>\n",
       "      <td>290492</td>\n",
       "      <td>1951</td>\n",
       "      <td>3870.25</td>\n",
       "      <td>6037</td>\n",
       "    </tr>\n",
       "    <tr>\n",
       "      <th>40</th>\n",
       "      <td>2</td>\n",
       "      <td>1.0</td>\n",
       "      <td>725</td>\n",
       "      <td>37548</td>\n",
       "      <td>1953</td>\n",
       "      <td>576.47</td>\n",
       "      <td>6037</td>\n",
       "    </tr>\n",
       "  </tbody>\n",
       "</table>\n",
       "</div>"
      ],
      "text/plain": [
       "    bedroom  bathroom  area  tax_value  year_built  tax_amount  fips\n",
       "7         3       2.0  2077     646760        1926     7924.68  6037\n",
       "18        3       1.0  1244     169471        1950     2532.88  6037\n",
       "19        3       2.0  1300     233266        1950     3110.99  6037\n",
       "20        3       2.0  1222     290492        1951     3870.25  6037\n",
       "40        2       1.0   725      37548        1953      576.47  6037"
      ]
     },
     "execution_count": 2,
     "metadata": {},
     "output_type": "execute_result"
    }
   ],
   "source": [
    "#pull dataset from wragngle fucntion\n",
    "df = wrangle.wrangle_zillow()\n",
    "df.head()"
   ]
  },
  {
   "cell_type": "code",
   "execution_count": 3,
   "id": "e1fbf9f0",
   "metadata": {},
   "outputs": [],
   "source": [
    "#since we do scaling only in train data, split the dataset\n",
    "train_validate, test = train_test_split(df, test_size=.2, random_state=123)\n",
    "train, validate = train_test_split(train_validate, test_size=.3, random_state=123)"
   ]
  },
  {
   "cell_type": "code",
   "execution_count": 4,
   "id": "76f972f8",
   "metadata": {},
   "outputs": [
    {
     "data": {
      "text/plain": [
       "((1023397, 7), (438600, 7), (365500, 7))"
      ]
     },
     "execution_count": 4,
     "metadata": {},
     "output_type": "execute_result"
    }
   ],
   "source": [
    "#How was split\n",
    "train.shape,validate.shape,test.shape"
   ]
  },
  {
   "cell_type": "code",
   "execution_count": 5,
   "id": "32ca26ae",
   "metadata": {},
   "outputs": [],
   "source": [
    "#define X_train with tax_value only\n",
    "X_train = train[[\"tax_value\"]]"
   ]
  },
  {
   "cell_type": "code",
   "execution_count": 6,
   "id": "afd19f58",
   "metadata": {},
   "outputs": [],
   "source": [
    "# using minmaxscaler\n",
    "scaler1 = MinMaxScaler()\n",
    "#fit and transform the scaler\n",
    "X_train_scaled1 = scaler1.fit_transform(X_train)"
   ]
  },
  {
   "cell_type": "code",
   "execution_count": 7,
   "id": "fdc3d80a",
   "metadata": {},
   "outputs": [
    {
     "data": {
      "text/plain": [
       "array([[0.11469232],\n",
       "       [0.03496601],\n",
       "       [0.02260135],\n",
       "       [0.10826724]])"
      ]
     },
     "execution_count": 7,
     "metadata": {},
     "output_type": "execute_result"
    }
   ],
   "source": [
    "#print scaled values\n",
    "X_train_scaled1[:4]"
   ]
  },
  {
   "cell_type": "code",
   "execution_count": 8,
   "id": "125e4e1e",
   "metadata": {},
   "outputs": [
    {
     "data": {
      "text/plain": [
       "Text(0.5, 1.0, 'scaled')"
      ]
     },
     "execution_count": 8,
     "metadata": {},
     "output_type": "execute_result"
    },
    {
     "data": {
      "image/png": "[encoded data removed]",
      "text/plain": [
       "<Figure size 720x432 with 2 Axes>"
      ]
     },
     "metadata": {
      "needs_background": "light"
     },
     "output_type": "display_data"
    }
   ],
   "source": [
    "#visualizing unscaled and scaled\n",
    "plt.figure(figsize=(10, 6))\n",
    "plt.subplot(121)\n",
    "plt.hist(X_train, bins=100, ec =\"black\")\n",
    "plt.title('unscaled')\n",
    "plt.subplot(122)\n",
    "plt.hist(X_train_scaled1, bins=100, ec =\"black\")\n",
    "plt.title('scaled')"
   ]
  },
  {
   "cell_type": "markdown",
   "id": "2eb3c0bb",
   "metadata": {},
   "source": [
    "the x axis has been scaled"
   ]
  },
  {
   "cell_type": "code",
   "execution_count": 9,
   "id": "5cf76350",
   "metadata": {},
   "outputs": [],
   "source": [
    "#try standardscaler\n",
    "scaler2 = StandardScaler()"
   ]
  },
  {
   "cell_type": "code",
   "execution_count": 10,
   "id": "9373e3ab",
   "metadata": {},
   "outputs": [],
   "source": [
    "#fit and transform the scaler\n",
    "X_train_scaled2 = scaler2.fit_transform(X_train)"
   ]
  },
  {
   "cell_type": "code",
   "execution_count": 11,
   "id": "ee1b61f2",
   "metadata": {},
   "outputs": [
    {
     "data": {
      "text/plain": [
       "Text(0.5, 1.0, 'scaled')"
      ]
     },
     "execution_count": 11,
     "metadata": {},
     "output_type": "execute_result"
    },
    {
     "data": {
      "image/png": "[encoded data removed]",
      "text/plain": [
       "<Figure size 720x432 with 2 Axes>"
      ]
     },
     "metadata": {
      "needs_background": "light"
     },
     "output_type": "display_data"
    }
   ],
   "source": [
    "#visualize unscaled vs scaled\n",
    "plt.figure(figsize=(10, 6))\n",
    "plt.subplot(121)\n",
    "plt.hist(X_train, bins=200)\n",
    "plt.title('unscaled')\n",
    "plt.subplot(122)\n",
    "plt.hist(X_train_scaled2, bins=200)\n",
    "plt.title('scaled')"
   ]
  },
  {
   "cell_type": "code",
   "execution_count": 12,
   "id": "a1c66ffa",
   "metadata": {},
   "outputs": [],
   "source": [
    "#we will mess will robustscaler as well\n",
    "scaler3 = RobustScaler()"
   ]
  },
  {
   "cell_type": "code",
   "execution_count": 13,
   "id": "d92036b6",
   "metadata": {},
   "outputs": [],
   "source": [
    "#fit and transforrm\n",
    "X_train_scaled3 = scaler3.fit_transform(X_train)"
   ]
  },
  {
   "cell_type": "code",
   "execution_count": 14,
   "id": "adcaf9f5",
   "metadata": {},
   "outputs": [
    {
     "data": {
      "text/plain": [
       "Text(0.5, 1.0, 'scaled')"
      ]
     },
     "execution_count": 14,
     "metadata": {},
     "output_type": "execute_result"
    },
    {
     "data": {
      "image/png": "[encoded data removed]",
      "text/plain": [
       "<Figure size 720x432 with 2 Axes>"
      ]
     },
     "metadata": {
      "needs_background": "light"
     },
     "output_type": "display_data"
    }
   ],
   "source": [
    "#visualize unscaled vs scaled\n",
    "plt.figure(figsize=(10, 6))\n",
    "plt.subplot(121)\n",
    "plt.hist(X_train, bins=20, ec =\"black\")\n",
    "plt.title('unscaled')\n",
    "plt.subplot(122)\n",
    "plt.hist(X_train_scaled3, bins=20, ec =\"black\")\n",
    "plt.title('scaled')"
   ]
  },
  {
   "cell_type": "markdown",
   "id": "4a4212c8",
   "metadata": {},
   "source": [
    "2 Apply the .inverse_transform method to your scaled data. Is the resulting dataset the exact same as the original data"
   ]
  },
  {
   "cell_type": "code",
   "execution_count": 15,
   "id": "c7ab8e00",
   "metadata": {},
   "outputs": [
    {
     "data": {
      "text/html": [
       "<div>\n",
       "<style scoped>\n",
       "    .dataframe tbody tr th:only-of-type {\n",
       "        vertical-align: middle;\n",
       "    }\n",
       "\n",
       "    .dataframe tbody tr th {\n",
       "        vertical-align: top;\n",
       "    }\n",
       "\n",
       "    .dataframe thead th {\n",
       "        text-align: right;\n",
       "    }\n",
       "</style>\n",
       "<table border=\"1\" class=\"dataframe\">\n",
       "  <thead>\n",
       "    <tr style=\"text-align: right;\">\n",
       "      <th></th>\n",
       "      <th>0</th>\n",
       "    </tr>\n",
       "  </thead>\n",
       "  <tbody>\n",
       "    <tr>\n",
       "      <th>0</th>\n",
       "      <td>529671.0</td>\n",
       "    </tr>\n",
       "    <tr>\n",
       "      <th>1</th>\n",
       "      <td>161495.0</td>\n",
       "    </tr>\n",
       "    <tr>\n",
       "      <th>2</th>\n",
       "      <td>104395.0</td>\n",
       "    </tr>\n",
       "    <tr>\n",
       "      <th>3</th>\n",
       "      <td>500000.0</td>\n",
       "    </tr>\n",
       "    <tr>\n",
       "      <th>4</th>\n",
       "      <td>656866.0</td>\n",
       "    </tr>\n",
       "  </tbody>\n",
       "</table>\n",
       "</div>"
      ],
      "text/plain": [
       "          0\n",
       "0  529671.0\n",
       "1  161495.0\n",
       "2  104395.0\n",
       "3  500000.0\n",
       "4  656866.0"
      ]
     },
     "execution_count": 15,
     "metadata": {},
     "output_type": "execute_result"
    }
   ],
   "source": [
    "#apply inverse_transform method to scaled x train\n",
    "inverse_X_train = scaler1.inverse_transform(X_train_scaled1)\n",
    "inverse_X_train = pd.DataFrame(inverse_X_train)\n",
    "inverse_X_train.head()"
   ]
  },
  {
   "cell_type": "code",
   "execution_count": 16,
   "id": "edb3bd24",
   "metadata": {},
   "outputs": [
    {
     "data": {
      "text/html": [
       "<div>\n",
       "<style scoped>\n",
       "    .dataframe tbody tr th:only-of-type {\n",
       "        vertical-align: middle;\n",
       "    }\n",
       "\n",
       "    .dataframe tbody tr th {\n",
       "        vertical-align: top;\n",
       "    }\n",
       "\n",
       "    .dataframe thead th {\n",
       "        text-align: right;\n",
       "    }\n",
       "</style>\n",
       "<table border=\"1\" class=\"dataframe\">\n",
       "  <thead>\n",
       "    <tr style=\"text-align: right;\">\n",
       "      <th></th>\n",
       "      <th>tax_value</th>\n",
       "    </tr>\n",
       "  </thead>\n",
       "  <tbody>\n",
       "    <tr>\n",
       "      <th>1927212</th>\n",
       "      <td>529671</td>\n",
       "    </tr>\n",
       "    <tr>\n",
       "      <th>539627</th>\n",
       "      <td>161495</td>\n",
       "    </tr>\n",
       "    <tr>\n",
       "      <th>1231220</th>\n",
       "      <td>104395</td>\n",
       "    </tr>\n",
       "    <tr>\n",
       "      <th>877619</th>\n",
       "      <td>500000</td>\n",
       "    </tr>\n",
       "    <tr>\n",
       "      <th>665807</th>\n",
       "      <td>656866</td>\n",
       "    </tr>\n",
       "  </tbody>\n",
       "</table>\n",
       "</div>"
      ],
      "text/plain": [
       "         tax_value\n",
       "1927212     529671\n",
       "539627      161495\n",
       "1231220     104395\n",
       "877619      500000\n",
       "665807      656866"
      ]
     },
     "execution_count": 16,
     "metadata": {},
     "output_type": "execute_result"
    }
   ],
   "source": [
    "X_train[[\"tax_value\"]].head()"
   ]
  },
  {
   "cell_type": "markdown",
   "id": "2f54c041",
   "metadata": {},
   "source": [
    "we get back our original X_train from the transforamtion"
   ]
  },
  {
   "cell_type": "markdown",
   "id": "89b8434b",
   "metadata": {},
   "source": [
    "3. Read the documentation for sklearn's QuantileTransformer. Use normal for the output_distribution and apply this scaler to your data. Visualize the result of your data scaling."
   ]
  },
  {
   "cell_type": "code",
   "execution_count": 17,
   "id": "80c5acff",
   "metadata": {},
   "outputs": [],
   "source": [
    "#define quantine transformer and then fit/transform it\n",
    "scaler = QuantileTransformer(output_distribution='normal')\n",
    "X_train_scaled = scaler.fit_transform(X_train)"
   ]
  },
  {
   "cell_type": "code",
   "execution_count": 18,
   "id": "00062379",
   "metadata": {},
   "outputs": [
    {
     "data": {
      "text/plain": [
       "Text(0.5, 1.0, 'scaled')"
      ]
     },
     "execution_count": 18,
     "metadata": {},
     "output_type": "execute_result"
    },
    {
     "data": {
      "image/png": "[encoded data removed]",
      "text/plain": [
       "<Figure size 720x432 with 2 Axes>"
      ]
     },
     "metadata": {
      "needs_background": "light"
     },
     "output_type": "display_data"
    }
   ],
   "source": [
    "#visualize unscaled vs scaled\n",
    "plt.figure(figsize=(10, 6))\n",
    "plt.subplot(121)\n",
    "plt.hist(X_train, bins=20, ec =\"black\")\n",
    "plt.title('unscaled')\n",
    "plt.subplot(122)\n",
    "plt.hist(X_train_scaled, bins=20, ec =\"black\")\n",
    "plt.title('scaled')"
   ]
  },
  {
   "cell_type": "markdown",
   "id": "64d53a34",
   "metadata": {},
   "source": [
    "a nice normal looking graph, yay!"
   ]
  },
  {
   "cell_type": "markdown",
   "id": "642aa62b",
   "metadata": {},
   "source": [
    "4. Use the QuantileTransformer, but omit the output_distribution argument. Visualize your results. What do you notice?"
   ]
  },
  {
   "cell_type": "code",
   "execution_count": 19,
   "id": "ce8bcc63",
   "metadata": {},
   "outputs": [],
   "source": [
    "#define quantine transformer and then fit/transform it\n",
    "scaler = QuantileTransformer()\n",
    "X_train_scaled = scaler.fit_transform(X_train)"
   ]
  },
  {
   "cell_type": "code",
   "execution_count": 20,
   "id": "c09764e6",
   "metadata": {},
   "outputs": [
    {
     "data": {
      "text/plain": [
       "Text(0.5, 1.0, 'scaled')"
      ]
     },
     "execution_count": 20,
     "metadata": {},
     "output_type": "execute_result"
    },
    {
     "data": {
      "image/png": "[encoded data removed]",
      "text/plain": [
       "<Figure size 720x432 with 2 Axes>"
      ]
     },
     "metadata": {
      "needs_background": "light"
     },
     "output_type": "display_data"
    }
   ],
   "source": [
    "#visualize unscaled vs scaled\n",
    "plt.figure(figsize=(10, 6))\n",
    "plt.subplot(121)\n",
    "plt.hist(X_train, bins=20, ec =\"black\")\n",
    "plt.title('unscaled')\n",
    "plt.subplot(122)\n",
    "plt.hist(X_train_scaled, bins=20, ec =\"black\")\n",
    "plt.title('scaled')"
   ]
  },
  {
   "cell_type": "markdown",
   "id": "84b17ef9",
   "metadata": {},
   "source": [
    "scaled graph is by default a uniform distribution"
   ]
  },
  {
   "cell_type": "markdown",
   "id": "0ba01fdb",
   "metadata": {},
   "source": [
    "5 Based on the work you've done, choose a scaling method for your dataset. Write a function within your prepare.py that accepts as input the train, validate, and test data splits, and returns the scaled versions of each. Be sure to only learn the parameters for scaling from your training data!"
   ]
  },
  {
   "cell_type": "code",
   "execution_count": 47,
   "id": "6412d40d",
   "metadata": {},
   "outputs": [],
   "source": [
    "def scale_data(train,validate,test,columns):\n",
    "    #make the scaler\n",
    "    scaler = MinMaxScaler()\n",
    "    #fit the scaler at train data only\n",
    "    scaler.fit(train[columns])\n",
    "    #tranforrm train, validate and test\n",
    "    train_scaled = scaler.transform(train[columns])\n",
    "    validate_scaled = scaler.transform(validate[columns])\n",
    "    test_scaled = scaler.transform(test[columns])\n",
    "    \n",
    "    # Generate a list of the new column names with _scaled added on\n",
    "    scaled_columns = [col+\"_scaled\" for col in columns]\n",
    "    \n",
    "    #concatenate with orginal train, validate and test\n",
    "    scaled_train = pd.concat([train.reset_index(drop = True),pd.DataFrame(train_scaled,columns = scaled_columns)],axis = 1)\n",
    "    scaled_validate = pd.concat([validate.reset_index(drop = True),pd.DataFrame(validate_scaled, columns = scaled_columns)], axis = 1)\n",
    "    scaled_test= pd.concat([test.reset_index(drop = True),pd.DataFrame(test_scaled,columns = scaled_columns)],axis = 1)\n",
    "    \n",
    "    return scaled_train,scaled_validate,scaled_test"
   ]
  },
  {
   "cell_type": "code",
   "execution_count": 48,
   "id": "d43d58e7",
   "metadata": {},
   "outputs": [],
   "source": [
    "scaled_train,scaled_validate,scaled_test =scale_data(train,validate,test,columns =['bedroom', 'bathroom', 'area', 'tax_value', 'tax_amount'])"
   ]
  },
  {
   "cell_type": "code",
   "execution_count": 49,
   "id": "b8b747c6",
   "metadata": {},
   "outputs": [
    {
     "data": {
      "text/html": [
       "<div>\n",
       "<style scoped>\n",
       "    .dataframe tbody tr th:only-of-type {\n",
       "        vertical-align: middle;\n",
       "    }\n",
       "\n",
       "    .dataframe tbody tr th {\n",
       "        vertical-align: top;\n",
       "    }\n",
       "\n",
       "    .dataframe thead th {\n",
       "        text-align: right;\n",
       "    }\n",
       "</style>\n",
       "<table border=\"1\" class=\"dataframe\">\n",
       "  <thead>\n",
       "    <tr style=\"text-align: right;\">\n",
       "      <th></th>\n",
       "      <th>bedroom</th>\n",
       "      <th>bathroom</th>\n",
       "      <th>area</th>\n",
       "      <th>tax_value</th>\n",
       "      <th>year_built</th>\n",
       "      <th>tax_amount</th>\n",
       "      <th>fips</th>\n",
       "      <th>bedroom_scaled</th>\n",
       "      <th>bathroom_scaled</th>\n",
       "      <th>area_scaled</th>\n",
       "      <th>tax_value_scaled</th>\n",
       "      <th>tax_amount_scaled</th>\n",
       "    </tr>\n",
       "  </thead>\n",
       "  <tbody>\n",
       "    <tr>\n",
       "      <th>0</th>\n",
       "      <td>3</td>\n",
       "      <td>2.0</td>\n",
       "      <td>2365</td>\n",
       "      <td>529671</td>\n",
       "      <td>1976</td>\n",
       "      <td>5644.78</td>\n",
       "      <td>6111</td>\n",
       "      <td>0.333333</td>\n",
       "      <td>0.333333</td>\n",
       "      <td>0.693686</td>\n",
       "      <td>0.114692</td>\n",
       "      <td>0.511913</td>\n",
       "    </tr>\n",
       "    <tr>\n",
       "      <th>1</th>\n",
       "      <td>4</td>\n",
       "      <td>3.0</td>\n",
       "      <td>2434</td>\n",
       "      <td>161495</td>\n",
       "      <td>1960</td>\n",
       "      <td>2103.93</td>\n",
       "      <td>6037</td>\n",
       "      <td>0.666667</td>\n",
       "      <td>0.666667</td>\n",
       "      <td>0.713950</td>\n",
       "      <td>0.034966</td>\n",
       "      <td>0.189733</td>\n",
       "    </tr>\n",
       "    <tr>\n",
       "      <th>2</th>\n",
       "      <td>3</td>\n",
       "      <td>2.0</td>\n",
       "      <td>1751</td>\n",
       "      <td>104395</td>\n",
       "      <td>1920</td>\n",
       "      <td>1405.93</td>\n",
       "      <td>6037</td>\n",
       "      <td>0.333333</td>\n",
       "      <td>0.333333</td>\n",
       "      <td>0.513363</td>\n",
       "      <td>0.022601</td>\n",
       "      <td>0.126222</td>\n",
       "    </tr>\n",
       "    <tr>\n",
       "      <th>3</th>\n",
       "      <td>3</td>\n",
       "      <td>2.0</td>\n",
       "      <td>1532</td>\n",
       "      <td>500000</td>\n",
       "      <td>1961</td>\n",
       "      <td>5839.49</td>\n",
       "      <td>6037</td>\n",
       "      <td>0.333333</td>\n",
       "      <td>0.333333</td>\n",
       "      <td>0.449046</td>\n",
       "      <td>0.108267</td>\n",
       "      <td>0.529630</td>\n",
       "    </tr>\n",
       "    <tr>\n",
       "      <th>4</th>\n",
       "      <td>3</td>\n",
       "      <td>2.0</td>\n",
       "      <td>1680</td>\n",
       "      <td>656866</td>\n",
       "      <td>1963</td>\n",
       "      <td>7692.52</td>\n",
       "      <td>6059</td>\n",
       "      <td>0.333333</td>\n",
       "      <td>0.333333</td>\n",
       "      <td>0.492511</td>\n",
       "      <td>0.142236</td>\n",
       "      <td>0.698236</td>\n",
       "    </tr>\n",
       "    <tr>\n",
       "      <th>5</th>\n",
       "      <td>4</td>\n",
       "      <td>2.5</td>\n",
       "      <td>2160</td>\n",
       "      <td>86991</td>\n",
       "      <td>1972</td>\n",
       "      <td>982.84</td>\n",
       "      <td>6059</td>\n",
       "      <td>0.666667</td>\n",
       "      <td>0.500000</td>\n",
       "      <td>0.633480</td>\n",
       "      <td>0.018833</td>\n",
       "      <td>0.087725</td>\n",
       "    </tr>\n",
       "    <tr>\n",
       "      <th>6</th>\n",
       "      <td>4</td>\n",
       "      <td>2.0</td>\n",
       "      <td>1152</td>\n",
       "      <td>42342</td>\n",
       "      <td>1955</td>\n",
       "      <td>1193.34</td>\n",
       "      <td>6111</td>\n",
       "      <td>0.666667</td>\n",
       "      <td>0.333333</td>\n",
       "      <td>0.337445</td>\n",
       "      <td>0.009164</td>\n",
       "      <td>0.106878</td>\n",
       "    </tr>\n",
       "    <tr>\n",
       "      <th>7</th>\n",
       "      <td>4</td>\n",
       "      <td>2.0</td>\n",
       "      <td>1752</td>\n",
       "      <td>315049</td>\n",
       "      <td>1963</td>\n",
       "      <td>4244.79</td>\n",
       "      <td>6037</td>\n",
       "      <td>0.666667</td>\n",
       "      <td>0.333333</td>\n",
       "      <td>0.513656</td>\n",
       "      <td>0.068217</td>\n",
       "      <td>0.384529</td>\n",
       "    </tr>\n",
       "    <tr>\n",
       "      <th>8</th>\n",
       "      <td>3</td>\n",
       "      <td>1.5</td>\n",
       "      <td>1622</td>\n",
       "      <td>214864</td>\n",
       "      <td>1955</td>\n",
       "      <td>2664.76</td>\n",
       "      <td>6059</td>\n",
       "      <td>0.333333</td>\n",
       "      <td>0.166667</td>\n",
       "      <td>0.475477</td>\n",
       "      <td>0.046523</td>\n",
       "      <td>0.240762</td>\n",
       "    </tr>\n",
       "    <tr>\n",
       "      <th>9</th>\n",
       "      <td>3</td>\n",
       "      <td>2.5</td>\n",
       "      <td>1850</td>\n",
       "      <td>308782</td>\n",
       "      <td>1958</td>\n",
       "      <td>3693.36</td>\n",
       "      <td>6059</td>\n",
       "      <td>0.333333</td>\n",
       "      <td>0.500000</td>\n",
       "      <td>0.542438</td>\n",
       "      <td>0.066860</td>\n",
       "      <td>0.334354</td>\n",
       "    </tr>\n",
       "  </tbody>\n",
       "</table>\n",
       "</div>"
      ],
      "text/plain": [
       "   bedroom  bathroom  area  tax_value  year_built  tax_amount  fips  \\\n",
       "0        3       2.0  2365     529671        1976     5644.78  6111   \n",
       "1        4       3.0  2434     161495        1960     2103.93  6037   \n",
       "2        3       2.0  1751     104395        1920     1405.93  6037   \n",
       "3        3       2.0  1532     500000        1961     5839.49  6037   \n",
       "4        3       2.0  1680     656866        1963     7692.52  6059   \n",
       "5        4       2.5  2160      86991        1972      982.84  6059   \n",
       "6        4       2.0  1152      42342        1955     1193.34  6111   \n",
       "7        4       2.0  1752     315049        1963     4244.79  6037   \n",
       "8        3       1.5  1622     214864        1955     2664.76  6059   \n",
       "9        3       2.5  1850     308782        1958     3693.36  6059   \n",
       "\n",
       "   bedroom_scaled  bathroom_scaled  area_scaled  tax_value_scaled  \\\n",
       "0        0.333333         0.333333     0.693686          0.114692   \n",
       "1        0.666667         0.666667     0.713950          0.034966   \n",
       "2        0.333333         0.333333     0.513363          0.022601   \n",
       "3        0.333333         0.333333     0.449046          0.108267   \n",
       "4        0.333333         0.333333     0.492511          0.142236   \n",
       "5        0.666667         0.500000     0.633480          0.018833   \n",
       "6        0.666667         0.333333     0.337445          0.009164   \n",
       "7        0.666667         0.333333     0.513656          0.068217   \n",
       "8        0.333333         0.166667     0.475477          0.046523   \n",
       "9        0.333333         0.500000     0.542438          0.066860   \n",
       "\n",
       "   tax_amount_scaled  \n",
       "0           0.511913  \n",
       "1           0.189733  \n",
       "2           0.126222  \n",
       "3           0.529630  \n",
       "4           0.698236  \n",
       "5           0.087725  \n",
       "6           0.106878  \n",
       "7           0.384529  \n",
       "8           0.240762  \n",
       "9           0.334354  "
      ]
     },
     "execution_count": 49,
     "metadata": {},
     "output_type": "execute_result"
    }
   ],
   "source": [
    "scaled_train.head(10)"
   ]
  }
 ],
 "metadata": {
  "kernelspec": {
   "display_name": "Python 3 (ipykernel)",
   "language": "python",
   "name": "python3"
  },
  "language_info": {
   "codemirror_mode": {
    "name": "ipython",
    "version": 3
   },
   "file_extension": ".py",
   "mimetype": "text/x-python",
   "name": "python",
   "nbconvert_exporter": "python",
   "pygments_lexer": "ipython3",
   "version": "3.9.12"
  }
 },
 "nbformat": 4,
 "nbformat_minor": 5
}
