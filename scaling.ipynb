{
 "cells": [
  {
   "cell_type": "markdown",
   "id": "b0144620",
   "metadata": {},
   "source": [
    "Scaling exercises\n",
    "\n",
    "\n",
    "Do your work for these exercises in a jupyter notebook named scaling. Use the zillow dataset you acquired and prepped in previous lesson. Once you are finished, you may wish to repeat the exercises on another dataset for additional practice."
   ]
  },
  {
   "cell_type": "markdown",
   "id": "90c951c0",
   "metadata": {},
   "source": [
    "1. Apply the scalers we talked about in this lesson to your data and visualize the results for the unscaled and scaled distribution"
   ]
  },
  {
   "cell_type": "code",
   "execution_count": 2,
   "id": "56a0885f",
   "metadata": {},
   "outputs": [],
   "source": [
    "#imports\n",
    "import sklearn.preprocessing\n",
    "from sklearn.model_selection import train_test_split\n",
    "from sklearn.preprocessing import MinMaxScaler, StandardScaler, RobustScaler, QuantileTransformer\n",
    "import numpy as np\n",
    "import pandas as pd\n",
    "import seaborn as sns\n",
    "import matplotlib.pyplot as plt\n",
    "import wrangle\n",
    "import warnings\n",
    "warnings.filterwarnings(\"ignore\")"
   ]
  },
  {
   "cell_type": "code",
   "execution_count": 3,
   "id": "a3d967b1",
   "metadata": {},
   "outputs": [
    {
     "data": {
      "text/html": [
       "<div>\n",
       "<style scoped>\n",
       "    .dataframe tbody tr th:only-of-type {\n",
       "        vertical-align: middle;\n",
       "    }\n",
       "\n",
       "    .dataframe tbody tr th {\n",
       "        vertical-align: top;\n",
       "    }\n",
       "\n",
       "    .dataframe thead th {\n",
       "        text-align: right;\n",
       "    }\n",
       "</style>\n",
       "<table border=\"1\" class=\"dataframe\">\n",
       "  <thead>\n",
       "    <tr style=\"text-align: right;\">\n",
       "      <th></th>\n",
       "      <th>bedroom</th>\n",
       "      <th>bathroom</th>\n",
       "      <th>area</th>\n",
       "      <th>tax_value</th>\n",
       "      <th>year_built</th>\n",
       "      <th>tax_amount</th>\n",
       "      <th>fips</th>\n",
       "    </tr>\n",
       "  </thead>\n",
       "  <tbody>\n",
       "    <tr>\n",
       "      <th>7</th>\n",
       "      <td>3</td>\n",
       "      <td>2.0</td>\n",
       "      <td>2077</td>\n",
       "      <td>646760</td>\n",
       "      <td>1926</td>\n",
       "      <td>7924.68</td>\n",
       "      <td>6037</td>\n",
       "    </tr>\n",
       "    <tr>\n",
       "      <th>18</th>\n",
       "      <td>3</td>\n",
       "      <td>1.0</td>\n",
       "      <td>1244</td>\n",
       "      <td>169471</td>\n",
       "      <td>1950</td>\n",
       "      <td>2532.88</td>\n",
       "      <td>6037</td>\n",
       "    </tr>\n",
       "    <tr>\n",
       "      <th>19</th>\n",
       "      <td>3</td>\n",
       "      <td>2.0</td>\n",
       "      <td>1300</td>\n",
       "      <td>233266</td>\n",
       "      <td>1950</td>\n",
       "      <td>3110.99</td>\n",
       "      <td>6037</td>\n",
       "    </tr>\n",
       "    <tr>\n",
       "      <th>20</th>\n",
       "      <td>3</td>\n",
       "      <td>2.0</td>\n",
       "      <td>1222</td>\n",
       "      <td>290492</td>\n",
       "      <td>1951</td>\n",
       "      <td>3870.25</td>\n",
       "      <td>6037</td>\n",
       "    </tr>\n",
       "    <tr>\n",
       "      <th>40</th>\n",
       "      <td>2</td>\n",
       "      <td>1.0</td>\n",
       "      <td>725</td>\n",
       "      <td>37548</td>\n",
       "      <td>1953</td>\n",
       "      <td>576.47</td>\n",
       "      <td>6037</td>\n",
       "    </tr>\n",
       "  </tbody>\n",
       "</table>\n",
       "</div>"
      ],
      "text/plain": [
       "    bedroom  bathroom  area  tax_value  year_built  tax_amount  fips\n",
       "7         3       2.0  2077     646760        1926     7924.68  6037\n",
       "18        3       1.0  1244     169471        1950     2532.88  6037\n",
       "19        3       2.0  1300     233266        1950     3110.99  6037\n",
       "20        3       2.0  1222     290492        1951     3870.25  6037\n",
       "40        2       1.0   725      37548        1953      576.47  6037"
      ]
     },
     "execution_count": 3,
     "metadata": {},
     "output_type": "execute_result"
    }
   ],
   "source": [
    "#pull dataset from wragngle fucntion\n",
    "df = wrangle.wrangle_zillow()\n",
    "df.head()"
   ]
  },
  {
   "cell_type": "code",
   "execution_count": 4,
   "id": "e1fbf9f0",
   "metadata": {},
   "outputs": [],
   "source": [
    "#since we do scaling only in train data, split the dataset\n",
    "train_validate, test = train_test_split(df, test_size=.2, random_state=123)\n",
    "train, validate = train_test_split(train_validate, test_size=.3, random_state=123)"
   ]
  },
  {
   "cell_type": "code",
   "execution_count": 5,
   "id": "76f972f8",
   "metadata": {},
   "outputs": [
    {
     "data": {
      "text/plain": [
       "((1023397, 7), (438600, 7), (365500, 7))"
      ]
     },
     "execution_count": 5,
     "metadata": {},
     "output_type": "execute_result"
    }
   ],
   "source": [
    "#How was split\n",
    "train.shape,validate.shape,test.shape"
   ]
  },
  {
   "cell_type": "code",
   "execution_count": 6,
   "id": "32ca26ae",
   "metadata": {},
   "outputs": [],
   "source": [
    "#define X_train with tax_value only\n",
    "X_train = train[[\"tax_value\"]]"
   ]
  },
  {
   "cell_type": "code",
   "execution_count": 7,
   "id": "afd19f58",
   "metadata": {},
   "outputs": [],
   "source": [
    "# using minmaxscaler\n",
    "scaler1 = MinMaxScaler()\n",
    "#fit and transform the scaler\n",
    "X_train_scaled1 = scaler1.fit_transform(X_train)"
   ]
  },
  {
   "cell_type": "code",
   "execution_count": 8,
   "id": "fdc3d80a",
   "metadata": {},
   "outputs": [
    {
     "data": {
      "text/plain": [
       "array([[0.11469232],\n",
       "       [0.03496601],\n",
       "       [0.02260135],\n",
       "       [0.10826724]])"
      ]
     },
     "execution_count": 8,
     "metadata": {},
     "output_type": "execute_result"
    }
   ],
   "source": [
    "#print scaled values\n",
    "X_train_scaled1[:4]"
   ]
  },
  {
   "cell_type": "code",
   "execution_count": 9,
   "id": "125e4e1e",
   "metadata": {},
   "outputs": [
    {
     "data": {
      "text/plain": [
       "Text(0.5, 1.0, 'scaled')"
      ]
     },
     "execution_count": 9,
     "metadata": {},
     "output_type": "execute_result"
    },
    {
     "data": {
      "image/png": "[encoded data removed]",
      "text/plain": [
       "<Figure size 720x432 with 2 Axes>"
      ]
     },
     "metadata": {
      "needs_background": "light"
     },
     "output_type": "display_data"
    }
   ],
   "source": [
    "#visualizing unscaled and scaled\n",
    "plt.figure(figsize=(10, 6))\n",
    "plt.subplot(121)\n",
    "plt.hist(X_train, bins=20, ec =\"black\")\n",
    "plt.title('unscaled')\n",
    "plt.subplot(122)\n",
    "plt.hist(X_train_scaled1, bins=20, ec =\"black\")\n",
    "plt.title('scaled')"
   ]
  },
  {
   "cell_type": "markdown",
   "id": "2eb3c0bb",
   "metadata": {},
   "source": [
    "the x axis has been scaled"
   ]
  },
  {
   "cell_type": "code",
   "execution_count": 10,
   "id": "5cf76350",
   "metadata": {},
   "outputs": [],
   "source": [
    "#try standardscaler\n",
    "scaler2 = StandardScaler()"
   ]
  },
  {
   "cell_type": "code",
   "execution_count": 11,
   "id": "9373e3ab",
   "metadata": {},
   "outputs": [],
   "source": [
    "#fit and transform the scaler\n",
    "X_train_scaled2 = scaler2.fit_transform(X_train)"
   ]
  },
  {
   "cell_type": "code",
   "execution_count": 12,
   "id": "ee1b61f2",
   "metadata": {},
   "outputs": [
    {
     "data": {
      "text/plain": [
       "Text(0.5, 1.0, 'scaled')"
      ]
     },
     "execution_count": 12,
     "metadata": {},
     "output_type": "execute_result"
    },
    {
     "data": {
      "image/png": "[encoded data removed]",
      "text/plain": [
       "<Figure size 720x432 with 2 Axes>"
      ]
     },
     "metadata": {
      "needs_background": "light"
     },
     "output_type": "display_data"
    }
   ],
   "source": [
    "#visualize unscaled vs scaled\n",
    "plt.figure(figsize=(10, 6))\n",
    "plt.subplot(121)\n",
    "plt.hist(X_train, bins=20, ec =\"black\")\n",
    "plt.title('unscaled')\n",
    "plt.subplot(122)\n",
    "plt.hist(X_train_scaled2, bins=20, ec =\"black\")\n",
    "plt.title('scaled')"
   ]
  },
  {
   "cell_type": "code",
   "execution_count": 13,
   "id": "a1c66ffa",
   "metadata": {},
   "outputs": [],
   "source": [
    "#we will mess will robustscaler as well\n",
    "scaler3 = RobustScaler()"
   ]
  },
  {
   "cell_type": "code",
   "execution_count": 14,
   "id": "d92036b6",
   "metadata": {},
   "outputs": [],
   "source": [
    "#fit and transforrm\n",
    "X_train_scaled3 = scaler3.fit_transform(X_train)"
   ]
  },
  {
   "cell_type": "code",
   "execution_count": 15,
   "id": "adcaf9f5",
   "metadata": {},
   "outputs": [
    {
     "data": {
      "text/plain": [
       "Text(0.5, 1.0, 'scaled')"
      ]
     },
     "execution_count": 15,
     "metadata": {},
     "output_type": "execute_result"
    },
    {
     "data": {
      "image/png": "[encoded data removed]",
      "text/plain": [
       "<Figure size 720x432 with 2 Axes>"
      ]
     },
     "metadata": {
      "needs_background": "light"
     },
     "output_type": "display_data"
    }
   ],
   "source": [
    "#visualize unscaled vs scaled\n",
    "plt.figure(figsize=(10, 6))\n",
    "plt.subplot(121)\n",
    "plt.hist(X_train, bins=20, ec =\"black\")\n",
    "plt.title('unscaled')\n",
    "plt.subplot(122)\n",
    "plt.hist(X_train_scaled3, bins=20, ec =\"black\")\n",
    "plt.title('scaled')"
   ]
  },
  {
   "cell_type": "markdown",
   "id": "4a4212c8",
   "metadata": {},
   "source": [
    "2 Apply the .inverse_transform method to your scaled data. Is the resulting dataset the exact same as the original data"
   ]
  },
  {
   "cell_type": "code",
   "execution_count": 23,
   "id": "c7ab8e00",
   "metadata": {},
   "outputs": [
    {
     "data": {
      "text/html": [
       "<div>\n",
       "<style scoped>\n",
       "    .dataframe tbody tr th:only-of-type {\n",
       "        vertical-align: middle;\n",
       "    }\n",
       "\n",
       "    .dataframe tbody tr th {\n",
       "        vertical-align: top;\n",
       "    }\n",
       "\n",
       "    .dataframe thead th {\n",
       "        text-align: right;\n",
       "    }\n",
       "</style>\n",
       "<table border=\"1\" class=\"dataframe\">\n",
       "  <thead>\n",
       "    <tr style=\"text-align: right;\">\n",
       "      <th></th>\n",
       "      <th>0</th>\n",
       "    </tr>\n",
       "  </thead>\n",
       "  <tbody>\n",
       "    <tr>\n",
       "      <th>0</th>\n",
       "      <td>529671.0</td>\n",
       "    </tr>\n",
       "    <tr>\n",
       "      <th>1</th>\n",
       "      <td>161495.0</td>\n",
       "    </tr>\n",
       "    <tr>\n",
       "      <th>2</th>\n",
       "      <td>104395.0</td>\n",
       "    </tr>\n",
       "    <tr>\n",
       "      <th>3</th>\n",
       "      <td>500000.0</td>\n",
       "    </tr>\n",
       "    <tr>\n",
       "      <th>4</th>\n",
       "      <td>656866.0</td>\n",
       "    </tr>\n",
       "  </tbody>\n",
       "</table>\n",
       "</div>"
      ],
      "text/plain": [
       "          0\n",
       "0  529671.0\n",
       "1  161495.0\n",
       "2  104395.0\n",
       "3  500000.0\n",
       "4  656866.0"
      ]
     },
     "execution_count": 23,
     "metadata": {},
     "output_type": "execute_result"
    }
   ],
   "source": [
    "#apply inverse_transform method to scaled x train\n",
    "inverse_X_train = scaler1.inverse_transform(X_train_scaled1)\n",
    "inverse_X_train = pd.DataFrame(inverse_X_train)\n",
    "inverse_X_train.head()"
   ]
  },
  {
   "cell_type": "code",
   "execution_count": 26,
   "id": "edb3bd24",
   "metadata": {},
   "outputs": [
    {
     "data": {
      "text/html": [
       "<div>\n",
       "<style scoped>\n",
       "    .dataframe tbody tr th:only-of-type {\n",
       "        vertical-align: middle;\n",
       "    }\n",
       "\n",
       "    .dataframe tbody tr th {\n",
       "        vertical-align: top;\n",
       "    }\n",
       "\n",
       "    .dataframe thead th {\n",
       "        text-align: right;\n",
       "    }\n",
       "</style>\n",
       "<table border=\"1\" class=\"dataframe\">\n",
       "  <thead>\n",
       "    <tr style=\"text-align: right;\">\n",
       "      <th></th>\n",
       "      <th>tax_value</th>\n",
       "    </tr>\n",
       "  </thead>\n",
       "  <tbody>\n",
       "    <tr>\n",
       "      <th>1927212</th>\n",
       "      <td>529671</td>\n",
       "    </tr>\n",
       "    <tr>\n",
       "      <th>539627</th>\n",
       "      <td>161495</td>\n",
       "    </tr>\n",
       "    <tr>\n",
       "      <th>1231220</th>\n",
       "      <td>104395</td>\n",
       "    </tr>\n",
       "    <tr>\n",
       "      <th>877619</th>\n",
       "      <td>500000</td>\n",
       "    </tr>\n",
       "    <tr>\n",
       "      <th>665807</th>\n",
       "      <td>656866</td>\n",
       "    </tr>\n",
       "  </tbody>\n",
       "</table>\n",
       "</div>"
      ],
      "text/plain": [
       "         tax_value\n",
       "1927212     529671\n",
       "539627      161495\n",
       "1231220     104395\n",
       "877619      500000\n",
       "665807      656866"
      ]
     },
     "execution_count": 26,
     "metadata": {},
     "output_type": "execute_result"
    }
   ],
   "source": [
    "X_train[[\"tax_value\"]].head()"
   ]
  },
  {
   "cell_type": "code",
   "execution_count": null,
   "id": "7470e48d",
   "metadata": {},
   "outputs": [],
   "source": [
    "#subtract = X_train[\"tax_value\"] - inverse_X_train.astype(\"int64\")"
   ]
  },
  {
   "cell_type": "code",
   "execution_count": 28,
   "id": "500a18ca",
   "metadata": {},
   "outputs": [
    {
     "data": {
      "text/plain": [
       "-5.307195592784087"
      ]
     },
     "execution_count": 28,
     "metadata": {},
     "output_type": "execute_result"
    }
   ],
   "source": [
    "subtract.mean()"
   ]
  },
  {
   "cell_type": "code",
   "execution_count": null,
   "id": "6726397d",
   "metadata": {},
   "outputs": [],
   "source": []
  }
 ],
 "metadata": {
  "kernelspec": {
   "display_name": "Python 3 (ipykernel)",
   "language": "python",
   "name": "python3"
  },
  "language_info": {
   "codemirror_mode": {
    "name": "ipython",
    "version": 3
   },
   "file_extension": ".py",
   "mimetype": "text/x-python",
   "name": "python",
   "nbconvert_exporter": "python",
   "pygments_lexer": "ipython3",
   "version": "3.9.12"
  }
 },
 "nbformat": 4,
 "nbformat_minor": 5
}
